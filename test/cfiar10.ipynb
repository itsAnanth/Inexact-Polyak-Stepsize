{
 "cells": [
  {
   "cell_type": "code",
   "execution_count": 1,
   "metadata": {},
   "outputs": [],
   "source": [
    "%load_ext autoreload\n",
    "%autoreload 2\n",
    "\n",
    "import torch\n",
    "import torch.nn as nn\n",
    "import torch.optim as optim\n",
    "import torch.nn.functional as F\n",
    "import torchvision.transforms as transforms\n",
    "from sklearn.metrics import accuracy_score\n",
    "import matplotlib.pyplot as plt\n",
    "from IPS import IPS\n",
    "from AdaIPS_v2 import AdaIPS_S\n",
    "from getData import getData"
   ]
  },
  {
   "cell_type": "code",
   "execution_count": 2,
   "metadata": {},
   "outputs": [],
   "source": [
    "# Device setup\n",
    "device = torch.device('cuda' if torch.cuda.is_available() else 'cpu')\n",
    "\n",
    "class CIFAR10_CNN(nn.Module):\n",
    "    def __init__(self):\n",
    "        super(CIFAR10_CNN, self).__init__()\n",
    "        self.conv1 = nn.Conv2d(3, 32, kernel_size=3, padding=1)\n",
    "        self.conv2 = nn.Conv2d(32, 64, kernel_size=3, padding=1)\n",
    "        self.pool = nn.MaxPool2d(kernel_size=2, stride=2)\n",
    "        self.fc1 = nn.Linear(64 * 8 * 8, 512)\n",
    "        self.fc2 = nn.Linear(512, 10)\n",
    "        self.relu = nn.ReLU()\n",
    "        self.dropout = nn.Dropout(0.5)\n",
    "        \n",
    "        self.t_losses = []\n",
    "        self.v_losses = []\n",
    "    \n",
    "    def forward(self, x):\n",
    "        x = self.pool(self.relu(self.conv1(x)))\n",
    "        x = self.pool(self.relu(self.conv2(x)))\n",
    "        x = x.view(-1, 64 * 8 * 8)\n",
    "        x = self.relu(self.fc1(x))\n",
    "        x = self.dropout(x)\n",
    "        x = self.fc2(x)\n",
    "        return x\n"
   ]
  },
  {
   "cell_type": "code",
   "execution_count": 3,
   "metadata": {},
   "outputs": [],
   "source": [
    "epochs = 5\n",
    "batch_size = 64"
   ]
  },
  {
   "cell_type": "code",
   "execution_count": 4,
   "metadata": {},
   "outputs": [
    {
     "name": "stdout",
     "output_type": "stream",
     "text": [
      "Files already downloaded and verified\n",
      "Files already downloaded and verified\n"
     ]
    }
   ],
   "source": [
    "transform = transforms.Compose([\n",
    "    transforms.ToTensor(),  \n",
    "    transforms.Normalize((0.5, 0.5, 0.5), (0.5, 0.5, 0.5))  # Normalize to [-1, 1]\n",
    "])\n",
    "trainloader, trainset, testloader, testset, validationloader, valset = getData('CIFAR10', transform=transform, batch_size=batch_size)"
   ]
  },
  {
   "cell_type": "code",
   "execution_count": 5,
   "metadata": {},
   "outputs": [],
   "source": [
    "def train(model, optimizer, epochs=2):\n",
    "    print(optimizer)\n",
    "    criterion = nn.CrossEntropyLoss()\n",
    "    optimizer = optimizer\n",
    "\n",
    "    num_epochs = epochs\n",
    "    for epoch in range(num_epochs):\n",
    "        for i, (inputs, labels) in enumerate(trainloader):\n",
    "            inputs, labels = inputs.to(device), labels.to(device)\n",
    "\n",
    "            def closure():\n",
    "                optimizer.zero_grad()\n",
    "                outputs = model(inputs)\n",
    "                loss = criterion(outputs, labels)\n",
    "                loss.backward()\n",
    "                return loss\n",
    "\n",
    "    \n",
    "            # if i % 100 == 0:                \n",
    "            #     with torch.no_grad():\n",
    "            #         for v_i, (v_inputs, v_labels) in enumerate(validationloader):\n",
    "            #             v_inputs, v_labels = v_inputs.to(device), v_labels.to(device)\n",
    "            #             v_outputs = model(v_inputs)\n",
    "            #             v_loss = criterion(v_outputs, v_labels)\n",
    "                    \n",
    "            #         print(\"validation loss\", v_loss.item())                   \n",
    "            #     model.v_losses.append(v_loss.item())\n",
    "                \n",
    "            loss = optimizer.step(closure)\n",
    "            \n",
    "            if i % 100 == 0:\n",
    "                print(f'Epoch {epoch+1}, Step {i}, Loss: {loss}')\n",
    "                model.t_losses.append(loss.item())\n",
    "            \n",
    "\n",
    "    print(\"Training complete.\")\n",
    "    return model"
   ]
  },
  {
   "cell_type": "code",
   "execution_count": 6,
   "metadata": {},
   "outputs": [
    {
     "name": "stdout",
     "output_type": "stream",
     "text": [
      "initialized optimizer with per layer learning rate: False\n",
      "AdaIPS_S (\n",
      "Parameter Group 0\n",
      "    T0: 3125.0\n",
      "    beta_1: 0.9\n",
      "    beta_2: 0.999\n",
      "    eps: 1e-08\n",
      "    lower_bound: 0\n",
      ")\n",
      "Epoch 1, Step 0, Loss: 2.306436777114868\n",
      "Epoch 1, Step 100, Loss: 1.8664557933807373\n",
      "Epoch 1, Step 200, Loss: 1.677918553352356\n",
      "Epoch 1, Step 300, Loss: 1.7368284463882446\n",
      "Epoch 1, Step 400, Loss: 1.5117219686508179\n",
      "Epoch 1, Step 500, Loss: 1.2123134136199951\n",
      "Epoch 1, Step 600, Loss: 1.3654476404190063\n",
      "Epoch 2, Step 0, Loss: 1.2562819719314575\n",
      "Epoch 2, Step 100, Loss: 1.5799700021743774\n",
      "Epoch 2, Step 200, Loss: 1.2895145416259766\n",
      "Epoch 2, Step 300, Loss: 1.0320367813110352\n",
      "Epoch 2, Step 400, Loss: 1.009661078453064\n",
      "Epoch 2, Step 500, Loss: 1.1131511926651\n",
      "Epoch 2, Step 600, Loss: 0.9532089233398438\n",
      "Epoch 3, Step 0, Loss: 1.1173968315124512\n",
      "Epoch 3, Step 100, Loss: 0.9505459666252136\n",
      "Epoch 3, Step 200, Loss: 1.20955228805542\n",
      "Epoch 3, Step 300, Loss: 0.9804580807685852\n",
      "Epoch 3, Step 400, Loss: 0.9996866583824158\n",
      "Epoch 3, Step 500, Loss: 1.1356171369552612\n",
      "Epoch 3, Step 600, Loss: 1.2152948379516602\n",
      "Epoch 4, Step 0, Loss: 0.8156424760818481\n",
      "Epoch 4, Step 100, Loss: 0.9073343276977539\n",
      "Epoch 4, Step 200, Loss: 1.0706819295883179\n",
      "Epoch 4, Step 300, Loss: 0.7796040177345276\n",
      "Epoch 4, Step 400, Loss: 0.8193726539611816\n",
      "Epoch 4, Step 500, Loss: 0.8388814330101013\n",
      "Epoch 4, Step 600, Loss: 0.9256887435913086\n",
      "Epoch 5, Step 0, Loss: 1.0101909637451172\n",
      "Epoch 5, Step 100, Loss: 0.874989926815033\n",
      "Epoch 5, Step 200, Loss: 0.8578453063964844\n",
      "Epoch 5, Step 300, Loss: 0.7959243655204773\n",
      "Epoch 5, Step 400, Loss: 0.762698769569397\n",
      "Epoch 5, Step 500, Loss: 0.618847668170929\n",
      "Epoch 5, Step 600, Loss: 0.6848475337028503\n",
      "Epoch 6, Step 0, Loss: 0.6522951722145081\n",
      "Epoch 6, Step 100, Loss: 0.7006776332855225\n",
      "Epoch 6, Step 200, Loss: 0.2726622223854065\n",
      "Epoch 6, Step 300, Loss: 0.7038204073905945\n",
      "Epoch 6, Step 400, Loss: 0.7524448037147522\n",
      "Epoch 6, Step 500, Loss: 1.1320090293884277\n",
      "Epoch 6, Step 600, Loss: 0.7079753875732422\n",
      "Epoch 7, Step 0, Loss: 0.4641941785812378\n",
      "Epoch 7, Step 100, Loss: 0.6138118505477905\n",
      "Epoch 7, Step 200, Loss: 0.7331264615058899\n",
      "Epoch 7, Step 300, Loss: 0.597297728061676\n",
      "Epoch 7, Step 400, Loss: 0.8089413642883301\n",
      "Epoch 7, Step 500, Loss: 0.5214619040489197\n",
      "Epoch 7, Step 600, Loss: 0.6100141406059265\n",
      "Training complete.\n"
     ]
    },
    {
     "data": {
      "text/plain": [
       "CIFAR10_CNN(\n",
       "  (conv1): Conv2d(3, 32, kernel_size=(3, 3), stride=(1, 1), padding=(1, 1))\n",
       "  (conv2): Conv2d(32, 64, kernel_size=(3, 3), stride=(1, 1), padding=(1, 1))\n",
       "  (pool): MaxPool2d(kernel_size=2, stride=2, padding=0, dilation=1, ceil_mode=False)\n",
       "  (fc1): Linear(in_features=4096, out_features=512, bias=True)\n",
       "  (fc2): Linear(in_features=512, out_features=10, bias=True)\n",
       "  (relu): ReLU()\n",
       "  (dropout): Dropout(p=0.5, inplace=False)\n",
       ")"
      ]
     },
     "execution_count": 6,
     "metadata": {},
     "output_type": "execute_result"
    }
   ],
   "source": [
    "adaIpsModel = CIFAR10_CNN().to(device)\n",
    "adaIpsOptimizer = AdaIPS_S(adaIpsModel.parameters(), lower_bound=0, T=epochs * (len(trainset)/batch_size))\n",
    "train(adaIpsModel, adaIpsOptimizer, epochs=7)"
   ]
  },
  {
   "cell_type": "code",
   "execution_count": 7,
   "metadata": {},
   "outputs": [
    {
     "name": "stdout",
     "output_type": "stream",
     "text": [
      "Adam (\n",
      "Parameter Group 0\n",
      "    amsgrad: False\n",
      "    betas: (0.9, 0.999)\n",
      "    capturable: False\n",
      "    differentiable: False\n",
      "    eps: 1e-08\n",
      "    foreach: None\n",
      "    fused: None\n",
      "    lr: 0.001\n",
      "    maximize: False\n",
      "    weight_decay: 0\n",
      ")\n",
      "Epoch 1, Step 0, Loss: 2.3025662899017334\n",
      "Epoch 1, Step 100, Loss: 1.7444132566452026\n",
      "Epoch 1, Step 200, Loss: 1.4346951246261597\n",
      "Epoch 1, Step 300, Loss: 1.1686737537384033\n",
      "Epoch 1, Step 400, Loss: 1.1799077987670898\n",
      "Epoch 1, Step 500, Loss: 1.3640214204788208\n",
      "Epoch 1, Step 600, Loss: 1.3976166248321533\n",
      "Epoch 2, Step 0, Loss: 1.112248420715332\n",
      "Epoch 2, Step 100, Loss: 1.1360458135604858\n",
      "Epoch 2, Step 200, Loss: 0.8531120419502258\n",
      "Epoch 2, Step 300, Loss: 0.9394432902336121\n",
      "Epoch 2, Step 400, Loss: 0.7883656620979309\n",
      "Epoch 2, Step 500, Loss: 0.9801778197288513\n",
      "Epoch 2, Step 600, Loss: 0.9492173790931702\n",
      "Epoch 3, Step 0, Loss: 0.9688427448272705\n",
      "Epoch 3, Step 100, Loss: 0.8107593059539795\n",
      "Epoch 3, Step 200, Loss: 1.0528565645217896\n",
      "Epoch 3, Step 300, Loss: 0.8577496409416199\n",
      "Epoch 3, Step 400, Loss: 0.7460638880729675\n",
      "Epoch 3, Step 500, Loss: 1.218873381614685\n",
      "Epoch 3, Step 600, Loss: 1.13053560256958\n",
      "Epoch 4, Step 0, Loss: 0.8269054889678955\n",
      "Epoch 4, Step 100, Loss: 0.826228141784668\n",
      "Epoch 4, Step 200, Loss: 0.7601293921470642\n",
      "Epoch 4, Step 300, Loss: 0.7317603826522827\n",
      "Epoch 4, Step 400, Loss: 0.7064788937568665\n",
      "Epoch 4, Step 500, Loss: 0.8069692850112915\n",
      "Epoch 4, Step 600, Loss: 0.8243645429611206\n",
      "Epoch 5, Step 0, Loss: 0.5266756415367126\n",
      "Epoch 5, Step 100, Loss: 0.8508995175361633\n",
      "Epoch 5, Step 200, Loss: 0.742068350315094\n",
      "Epoch 5, Step 300, Loss: 0.7785046696662903\n",
      "Epoch 5, Step 400, Loss: 0.517379105091095\n",
      "Epoch 5, Step 500, Loss: 0.6651287078857422\n",
      "Epoch 5, Step 600, Loss: 0.615963876247406\n",
      "Training complete.\n"
     ]
    },
    {
     "data": {
      "text/plain": [
       "CIFAR10_CNN(\n",
       "  (conv1): Conv2d(3, 32, kernel_size=(3, 3), stride=(1, 1), padding=(1, 1))\n",
       "  (conv2): Conv2d(32, 64, kernel_size=(3, 3), stride=(1, 1), padding=(1, 1))\n",
       "  (pool): MaxPool2d(kernel_size=2, stride=2, padding=0, dilation=1, ceil_mode=False)\n",
       "  (fc1): Linear(in_features=4096, out_features=512, bias=True)\n",
       "  (fc2): Linear(in_features=512, out_features=10, bias=True)\n",
       "  (relu): ReLU()\n",
       "  (dropout): Dropout(p=0.5, inplace=False)\n",
       ")"
      ]
     },
     "execution_count": 7,
     "metadata": {},
     "output_type": "execute_result"
    }
   ],
   "source": [
    "adamModel = CIFAR10_CNN().to(device)\n",
    "adamOptimizer = torch.optim.Adam(adamModel.parameters(), lr=1e-3)\n",
    "train(adamModel, adamOptimizer, epochs=5)"
   ]
  },
  {
   "cell_type": "code",
   "execution_count": 14,
   "metadata": {},
   "outputs": [
    {
     "name": "stdout",
     "output_type": "stream",
     "text": [
      "Adam (\n",
      "Parameter Group 0\n",
      "    amsgrad: False\n",
      "    betas: (0.9, 0.999)\n",
      "    capturable: False\n",
      "    differentiable: False\n",
      "    eps: 1e-08\n",
      "    foreach: None\n",
      "    fused: None\n",
      "    lr: 0.001\n",
      "    maximize: False\n",
      "    weight_decay: 0\n",
      ")\n",
      "Epoch 1, Step 0, Loss: 0.38725900650024414\n",
      "Epoch 1, Step 100, Loss: 0.5234553813934326\n",
      "Epoch 1, Step 200, Loss: 0.46787506341934204\n",
      "Epoch 1, Step 300, Loss: 0.6282565593719482\n",
      "Epoch 1, Step 400, Loss: 0.6963012218475342\n",
      "Epoch 1, Step 500, Loss: 0.523334801197052\n",
      "Epoch 1, Step 600, Loss: 0.5682764649391174\n",
      "Training complete.\n"
     ]
    },
    {
     "data": {
      "text/plain": [
       "CIFAR10_CNN(\n",
       "  (conv1): Conv2d(3, 32, kernel_size=(3, 3), stride=(1, 1), padding=(1, 1))\n",
       "  (conv2): Conv2d(32, 64, kernel_size=(3, 3), stride=(1, 1), padding=(1, 1))\n",
       "  (pool): MaxPool2d(kernel_size=2, stride=2, padding=0, dilation=1, ceil_mode=False)\n",
       "  (fc1): Linear(in_features=4096, out_features=512, bias=True)\n",
       "  (fc2): Linear(in_features=512, out_features=10, bias=True)\n",
       "  (relu): ReLU()\n",
       "  (dropout): Dropout(p=0.5, inplace=False)\n",
       ")"
      ]
     },
     "execution_count": 14,
     "metadata": {},
     "output_type": "execute_result"
    }
   ],
   "source": [
    "train(adamModel, adamOptimizer, epochs=1)"
   ]
  },
  {
   "cell_type": "code",
   "execution_count": 16,
   "metadata": {},
   "outputs": [
    {
     "name": "stdout",
     "output_type": "stream",
     "text": [
      "AdaIPS_S (\n",
      "Parameter Group 0\n",
      "    T0: 3125.0\n",
      "    beta_1: 0.9\n",
      "    beta_2: 0.999\n",
      "    eps: 1e-08\n",
      "    lower_bound: 0\n",
      ")\n",
      "Epoch 1, Step 0, Loss: 0.5189979672431946\n",
      "Epoch 1, Step 100, Loss: 0.4309672713279724\n",
      "Epoch 1, Step 200, Loss: 0.3718997538089752\n",
      "Epoch 1, Step 300, Loss: 0.6439343094825745\n",
      "Epoch 1, Step 400, Loss: 0.5500617027282715\n",
      "Epoch 1, Step 500, Loss: 0.7464885711669922\n",
      "Epoch 1, Step 600, Loss: 0.3075267970561981\n",
      "Training complete.\n"
     ]
    },
    {
     "data": {
      "text/plain": [
       "CIFAR10_CNN(\n",
       "  (conv1): Conv2d(3, 32, kernel_size=(3, 3), stride=(1, 1), padding=(1, 1))\n",
       "  (conv2): Conv2d(32, 64, kernel_size=(3, 3), stride=(1, 1), padding=(1, 1))\n",
       "  (pool): MaxPool2d(kernel_size=2, stride=2, padding=0, dilation=1, ceil_mode=False)\n",
       "  (fc1): Linear(in_features=4096, out_features=512, bias=True)\n",
       "  (fc2): Linear(in_features=512, out_features=10, bias=True)\n",
       "  (relu): ReLU()\n",
       "  (dropout): Dropout(p=0.5, inplace=False)\n",
       ")"
      ]
     },
     "execution_count": 16,
     "metadata": {},
     "output_type": "execute_result"
    }
   ],
   "source": [
    "train(adaIpsModel, adaIpsOptimizer, epochs=1)\n"
   ]
  },
  {
   "cell_type": "code",
   "execution_count": null,
   "metadata": {},
   "outputs": [],
   "source": [
    "ipsModel = CIFAR10_CNN().to(device)\n",
    "ipsOptimizer = IPS(adaIpsModel.parameters(), lower_bound=0, T=epochs * (len(trainset)/batch_size))\n",
    "train(adaIpsModel, adaIpsOptimizer, epochs=7)"
   ]
  },
  {
   "cell_type": "code",
   "execution_count": 17,
   "metadata": {},
   "outputs": [
    {
     "name": "stdout",
     "output_type": "stream",
     "text": [
      "56\n",
      "53\n"
     ]
    },
    {
     "data": {
      "image/png": "[encoded data removed]",
      "text/plain": [
       "<Figure size 640x480 with 1 Axes>"
      ]
     },
     "metadata": {},
     "output_type": "display_data"
    }
   ],
   "source": [
    "\n",
    "models = [\n",
    "    (adaIpsModel, 'adaips optimizer'),\n",
    "    (adamModel, 'adam optimizer'),\n",
    "    # (adaIpsModel_, 'adaips per param optimizer'),\n",
    "    \n",
    "    # (ipsModel, 'ips optimizer')\n",
    "\n",
    "]\n",
    "exclude = []\n",
    "focus = [adaIpsModel]\n",
    "interval = 1\n",
    "for model, optimizer in models:\n",
    "    if model in exclude: continue\n",
    "    print(len(model.t_losses))\n",
    "    plt.plot(\n",
    "        [i * 100 for i, loss in enumerate(model.t_losses) if i % interval == 0], \n",
    "        [loss for i, loss in enumerate(model.t_losses) if i % interval == 0], \n",
    "        label=optimizer,\n",
    "        alpha=0.5 if model not in focus else 1\n",
    "    )\n",
    "\n",
    "plt.legend()\n",
    "plt.show()"
   ]
  },
  {
   "cell_type": "markdown",
   "metadata": {},
   "source": [
    "$$\n",
    "       \\begin{aligned}\n",
    "            &\\rule{110mm}{0.4pt}                                                                 \\\\\n",
    "            &\\textbf{input}      : \\gamma \\text{ (lr)}, \\beta_1, \\beta_2\n",
    "                \\text{ (betas)},\\theta_0 \\text{ (params)},f(\\theta) \\text{ (objective)}          \\\\\n",
    "            &\\hspace{13mm}      \\lambda \\text{ (weight decay)},  \\: \\textit{amsgrad},\n",
    "                \\:\\textit{maximize},  \\: \\epsilon \\text{ (epsilon)}                              \\\\\n",
    "            &\\textbf{initialize} :  m_0 \\leftarrow 0 \\text{ ( first moment)},\n",
    "                v_0\\leftarrow 0 \\text{ (second moment)},\\: v_0^{max}\\leftarrow 0          \\\\[-1.ex]\n",
    "            &\\rule{110mm}{0.4pt}                                                                 \\\\\n",
    "            &\\textbf{for} \\: t=1 \\: \\textbf{to} \\: \\ldots \\: \\textbf{do}                         \\\\\n",
    "\n",
    "            &\\hspace{5mm}\\textbf{if} \\: \\textit{maximize}:                                       \\\\\n",
    "            &\\hspace{10mm}g_t           \\leftarrow   -\\nabla_{\\theta} f_t (\\theta_{t-1})         \\\\\n",
    "            &\\hspace{5mm}\\textbf{else}                                                           \\\\\n",
    "            &\\hspace{10mm}g_t           \\leftarrow   \\nabla_{\\theta} f_t (\\theta_{t-1})          \\\\\n",
    "            &\\hspace{5mm}\\textbf{if} \\: \\lambda \\neq 0                                           \\\\\n",
    "            &\\hspace{10mm} g_t \\leftarrow g_t + \\lambda  \\theta_{t-1}                            \\\\\n",
    "            &\\hspace{5mm}m_t           \\leftarrow   \\beta_1 m_{t-1} + (1 - \\beta_1) g_t          \\\\\n",
    "            &\\hspace{5mm}v_t           \\leftarrow   \\beta_2 v_{t-1} + (1-\\beta_2) g^2_t          \\\\\n",
    "            &\\hspace{5mm}\\widehat{m_t} \\leftarrow   m_t/\\big(1-\\beta_1^t \\big)                   \\\\\n",
    "            &\\hspace{5mm}\\textbf{if} \\: amsgrad                                                  \\\\\n",
    "            &\\hspace{10mm} v_t^{max} \\leftarrow \\mathrm{max}(v_{t-1}^{max},v_t)                  \\\\\n",
    "            &\\hspace{10mm}\\widehat{v_t} \\leftarrow v_t^{max}/\\big(1-\\beta_2^t \\big)              \\\\\n",
    "            &\\hspace{5mm}\\textbf{else}                                                           \\\\\n",
    "            &\\hspace{10mm}\\widehat{v_t} \\leftarrow   v_t/\\big(1-\\beta_2^t \\big)                  \\\\\n",
    "            &\\hspace{5mm}\\theta_t \\leftarrow \\theta_{t-1} - \\gamma \\widehat{m_t}/\n",
    "                \\big(\\sqrt{\\widehat{v_t}} + \\epsilon \\big)                                       \\\\\n",
    "            &\\rule{110mm}{0.4pt}                                                          \\\\[-1.ex]\n",
    "            &\\bf{return} \\:  \\theta_t                                                     \\\\[-1.ex]\n",
    "            &\\rule{110mm}{0.4pt}                                                          \\\\[-1.ex]\n",
    "       \\end{aligned}\n",
    "$$"
   ]
  }
 ],
 "metadata": {
  "kernelspec": {
   "display_name": "Python 3",
   "language": "python",
   "name": "python3"
  },
  "language_info": {
   "codemirror_mode": {
    "name": "ipython",
    "version": 3
   },
   "file_extension": ".py",
   "mimetype": "text/x-python",
   "name": "python",
   "nbconvert_exporter": "python",
   "pygments_lexer": "ipython3",
   "version": "3.11.1"
  }
 },
 "nbformat": 4,
 "nbformat_minor": 2
}
