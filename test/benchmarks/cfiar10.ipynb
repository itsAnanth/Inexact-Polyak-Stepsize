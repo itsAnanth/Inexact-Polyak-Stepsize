{
 "cells": [
  {
   "cell_type": "code",
   "execution_count": 8,
   "metadata": {},
   "outputs": [],
   "source": [
    "import sys\n",
    "import os\n",
    "sys.path.append('../')"
   ]
  },
  {
   "cell_type": "code",
   "execution_count": 9,
   "metadata": {},
   "outputs": [
    {
     "name": "stdout",
     "output_type": "stream",
     "text": [
      "The autoreload extension is already loaded. To reload it, use:\n",
      "  %reload_ext autoreload\n"
     ]
    }
   ],
   "source": [
    "%load_ext autoreload\n",
    "%autoreload 2\n",
    "\n",
    "import torch\n",
    "import torch.nn as nn\n",
    "import torch.optim as optim\n",
    "import torch.nn.functional as F\n",
    "import torchvision.transforms as transforms\n",
    "from sklearn.metrics import accuracy_score\n",
    "import matplotlib.pyplot as plt\n",
    "from optimizers import AdaIPS_S, IPS\n",
    "from utils.getData import getData"
   ]
  },
  {
   "cell_type": "code",
   "execution_count": 10,
   "metadata": {},
   "outputs": [],
   "source": [
    "# Device setup\n",
    "device = torch.device('cuda' if torch.cuda.is_available() else 'cpu')\n",
    "\n",
    "class CIFAR10_CNN(nn.Module):\n",
    "    def __init__(self):\n",
    "        super(CIFAR10_CNN, self).__init__()\n",
    "        self.conv1 = nn.Conv2d(3, 32, kernel_size=3, padding=1)\n",
    "        self.conv2 = nn.Conv2d(32, 64, kernel_size=3, padding=1)\n",
    "        self.pool = nn.MaxPool2d(kernel_size=2, stride=2)\n",
    "        self.fc1 = nn.Linear(64 * 8 * 8, 512)\n",
    "        self.fc2 = nn.Linear(512, 10)\n",
    "        self.relu = nn.ReLU()\n",
    "        self.dropout = nn.Dropout(0.5)\n",
    "        \n",
    "        self.t_losses = []\n",
    "        self.v_losses = []\n",
    "    \n",
    "    def forward(self, x):\n",
    "        x = self.pool(self.relu(self.conv1(x)))\n",
    "        x = self.pool(self.relu(self.conv2(x)))\n",
    "        x = x.view(-1, 64 * 8 * 8)\n",
    "        x = self.relu(self.fc1(x))\n",
    "        x = self.dropout(x)\n",
    "        x = self.fc2(x)\n",
    "        return x\n"
   ]
  },
  {
   "cell_type": "code",
   "execution_count": 11,
   "metadata": {},
   "outputs": [],
   "source": [
    "epochs = 7\n",
    "batch_size = 64"
   ]
  },
  {
   "cell_type": "code",
   "execution_count": 12,
   "metadata": {},
   "outputs": [
    {
     "name": "stdout",
     "output_type": "stream",
     "text": [
      "Files already downloaded and verified\n",
      "Files already downloaded and verified\n"
     ]
    }
   ],
   "source": [
    "transform = transforms.Compose([\n",
    "    transforms.ToTensor(),  \n",
    "    transforms.Normalize((0.5, 0.5, 0.5), (0.5, 0.5, 0.5))  # Normalize to [-1, 1]\n",
    "])\n",
    "trainloader, trainset, testloader, testset, validationloader, valset = getData('CIFAR10', transform=transform, batch_size=batch_size)"
   ]
  },
  {
   "cell_type": "code",
   "execution_count": 13,
   "metadata": {},
   "outputs": [],
   "source": [
    "def train(model, optimizer, epochs=2):\n",
    "    print(optimizer)\n",
    "    criterion = nn.CrossEntropyLoss()\n",
    "    optimizer = optimizer\n",
    "\n",
    "    num_epochs = epochs\n",
    "    for epoch in range(num_epochs):\n",
    "        for i, (inputs, labels) in enumerate(trainloader):\n",
    "            inputs, labels = inputs.to(device), labels.to(device)\n",
    "\n",
    "            def closure():\n",
    "                optimizer.zero_grad()\n",
    "                outputs = model(inputs)\n",
    "                loss = criterion(outputs, labels)\n",
    "                loss.backward()\n",
    "                return loss\n",
    "\n",
    "    \n",
    "            # if i % 100 == 0:                \n",
    "            #     with torch.no_grad():\n",
    "            #         for v_i, (v_inputs, v_labels) in enumerate(validationloader):\n",
    "            #             v_inputs, v_labels = v_inputs.to(device), v_labels.to(device)\n",
    "            #             v_outputs = model(v_inputs)\n",
    "            #             v_loss = criterion(v_outputs, v_labels)\n",
    "                    \n",
    "            #         print(\"validation loss\", v_loss.item())                   \n",
    "            #     model.v_losses.append(v_loss.item())\n",
    "                \n",
    "            loss = optimizer.step(closure)\n",
    "            \n",
    "            if i % 100 == 0:\n",
    "                print(f'Epoch {epoch+1}, Step {i}, Loss: {loss}')\n",
    "                model.t_losses.append(loss.item())\n",
    "            \n",
    "\n",
    "    print(\"Training complete.\")\n",
    "    return model"
   ]
  },
  {
   "cell_type": "code",
   "execution_count": 21,
   "metadata": {},
   "outputs": [],
   "source": [
    "def test(model, per_class=False):\n",
    "    model.eval()\n",
    "    for i, (inputs, labels) in enumerate(testloader):\n",
    "        with torch.no_grad():\n",
    "            output = model(inputs)\n",
    "            output = output.argmax(axis=1)\n",
    "        \n",
    "        print(\"predicted classes:\", np.unique(output.detach().numpy()))\n",
    "        precision, recall, fscore, _ = precision_recall_fscore_support(labels, output.detach().numpy(), average='weighted')\n",
    "        print(f\"accuracy: {accuracy_score(labels, output.detach().numpy())}\")\n",
    "        \n",
    "\n",
    "        print(f\"precision: {precision}\\nrecall: {recall}\\nfscore: {fscore}\")\n",
    "        if not per_class: \n",
    "            return\n",
    "        \n",
    "        for i in range(10):\n",
    "            print(f\"Class {i} -> Precision: {precision[i]:.4f}, Recall: {recall[i]:.4f}, F1-score: {fscore[i]:.4f}\")\n"
   ]
  },
  {
   "cell_type": "code",
   "execution_count": 14,
   "metadata": {},
   "outputs": [
    {
     "name": "stdout",
     "output_type": "stream",
     "text": [
      "initialized optimizer with per layer learning rate: False, no T\n",
      "AdaIPS_S (\n",
      "Parameter Group 0\n",
      "    beta_1: 0.9\n",
      "    beta_2: 0.999\n",
      "    eps: 1e-08\n",
      "    lower_bound: 0\n",
      ")\n",
      "Epoch 1, Step 0, Loss: 2.2970757484436035\n",
      "Epoch 1, Step 100, Loss: 1.842420220375061\n",
      "Epoch 1, Step 200, Loss: 1.8089308738708496\n",
      "Epoch 1, Step 300, Loss: 1.6618255376815796\n",
      "Epoch 1, Step 400, Loss: 1.5433478355407715\n",
      "Epoch 1, Step 500, Loss: 1.2354081869125366\n",
      "Epoch 1, Step 600, Loss: 1.4649813175201416\n",
      "Epoch 2, Step 0, Loss: 1.4268856048583984\n",
      "Epoch 2, Step 100, Loss: 1.2283453941345215\n",
      "Epoch 2, Step 200, Loss: 1.152175784111023\n",
      "Epoch 2, Step 300, Loss: 1.3964967727661133\n",
      "Epoch 2, Step 400, Loss: 1.3799668550491333\n",
      "Epoch 2, Step 500, Loss: 1.204188346862793\n",
      "Epoch 2, Step 600, Loss: 1.0760619640350342\n",
      "Epoch 3, Step 0, Loss: 1.117795467376709\n",
      "Epoch 3, Step 100, Loss: 0.9758248925209045\n",
      "Epoch 3, Step 200, Loss: 1.058148741722107\n",
      "Epoch 3, Step 300, Loss: 1.0668950080871582\n",
      "Epoch 3, Step 400, Loss: 0.9486097693443298\n",
      "Epoch 3, Step 500, Loss: 0.6963922381401062\n",
      "Epoch 3, Step 600, Loss: 0.7524766325950623\n",
      "Epoch 4, Step 0, Loss: 0.853264331817627\n",
      "Epoch 4, Step 100, Loss: 0.9885593056678772\n",
      "Epoch 4, Step 200, Loss: 0.8127431869506836\n",
      "Epoch 4, Step 300, Loss: 0.8860059976577759\n",
      "Epoch 4, Step 400, Loss: 0.9354665875434875\n",
      "Epoch 4, Step 500, Loss: 0.6970733404159546\n",
      "Epoch 4, Step 600, Loss: 0.8196871876716614\n",
      "Epoch 5, Step 0, Loss: 0.5466227531433105\n",
      "Epoch 5, Step 100, Loss: 0.6022082567214966\n",
      "Epoch 5, Step 200, Loss: 0.5116673707962036\n",
      "Epoch 5, Step 300, Loss: 0.5858031511306763\n",
      "Epoch 5, Step 400, Loss: 0.7748755216598511\n",
      "Epoch 5, Step 500, Loss: 0.5839924812316895\n",
      "Epoch 5, Step 600, Loss: 0.7463961243629456\n",
      "Epoch 6, Step 0, Loss: 0.6453158259391785\n",
      "Epoch 6, Step 100, Loss: 0.7674763202667236\n",
      "Epoch 6, Step 200, Loss: 0.6402400732040405\n",
      "Epoch 6, Step 300, Loss: 0.6198250651359558\n",
      "Epoch 6, Step 400, Loss: 0.774796187877655\n",
      "Epoch 6, Step 500, Loss: 0.5377253293991089\n",
      "Epoch 6, Step 600, Loss: 0.7660771012306213\n",
      "Epoch 7, Step 0, Loss: 0.6470686197280884\n",
      "Epoch 7, Step 100, Loss: 0.6107476949691772\n",
      "Epoch 7, Step 200, Loss: 0.7205479145050049\n",
      "Epoch 7, Step 300, Loss: 0.5147043466567993\n",
      "Epoch 7, Step 400, Loss: 0.4374169707298279\n",
      "Epoch 7, Step 500, Loss: 0.6177602410316467\n",
      "Epoch 7, Step 600, Loss: 0.5819152593612671\n",
      "Training complete.\n"
     ]
    },
    {
     "data": {
      "text/plain": [
       "CIFAR10_CNN(\n",
       "  (conv1): Conv2d(3, 32, kernel_size=(3, 3), stride=(1, 1), padding=(1, 1))\n",
       "  (conv2): Conv2d(32, 64, kernel_size=(3, 3), stride=(1, 1), padding=(1, 1))\n",
       "  (pool): MaxPool2d(kernel_size=2, stride=2, padding=0, dilation=1, ceil_mode=False)\n",
       "  (fc1): Linear(in_features=4096, out_features=512, bias=True)\n",
       "  (fc2): Linear(in_features=512, out_features=10, bias=True)\n",
       "  (relu): ReLU()\n",
       "  (dropout): Dropout(p=0.5, inplace=False)\n",
       ")"
      ]
     },
     "execution_count": 14,
     "metadata": {},
     "output_type": "execute_result"
    }
   ],
   "source": [
    "adaIpsModel = CIFAR10_CNN().to(device)\n",
    "adaIpsOptimizer = AdaIPS_S(adaIpsModel.parameters())\n",
    "train(adaIpsModel, adaIpsOptimizer, epochs=epochs)"
   ]
  },
  {
   "cell_type": "code",
   "execution_count": 15,
   "metadata": {},
   "outputs": [
    {
     "name": "stdout",
     "output_type": "stream",
     "text": [
      "Adam (\n",
      "Parameter Group 0\n",
      "    amsgrad: False\n",
      "    betas: (0.9, 0.999)\n",
      "    capturable: False\n",
      "    differentiable: False\n",
      "    eps: 1e-08\n",
      "    foreach: None\n",
      "    fused: None\n",
      "    lr: 0.001\n",
      "    maximize: False\n",
      "    weight_decay: 0\n",
      ")\n",
      "Epoch 1, Step 0, Loss: 2.306617259979248\n",
      "Epoch 1, Step 100, Loss: 1.569997787475586\n",
      "Epoch 1, Step 200, Loss: 1.4881545305252075\n",
      "Epoch 1, Step 300, Loss: 1.3523693084716797\n",
      "Epoch 1, Step 400, Loss: 1.3244916200637817\n",
      "Epoch 1, Step 500, Loss: 1.3172852993011475\n",
      "Epoch 1, Step 600, Loss: 1.299784541130066\n",
      "Epoch 2, Step 0, Loss: 1.3397630453109741\n",
      "Epoch 2, Step 100, Loss: 0.8721611499786377\n",
      "Epoch 2, Step 200, Loss: 1.4029529094696045\n",
      "Epoch 2, Step 300, Loss: 1.1734259128570557\n",
      "Epoch 2, Step 400, Loss: 0.7669469714164734\n",
      "Epoch 2, Step 500, Loss: 1.2467434406280518\n",
      "Epoch 2, Step 600, Loss: 1.1503376960754395\n",
      "Epoch 3, Step 0, Loss: 0.8826662302017212\n",
      "Epoch 3, Step 100, Loss: 0.9273289442062378\n",
      "Epoch 3, Step 200, Loss: 0.7683162689208984\n",
      "Epoch 3, Step 300, Loss: 0.785793662071228\n",
      "Epoch 3, Step 400, Loss: 0.9249807596206665\n",
      "Epoch 3, Step 500, Loss: 0.9119123816490173\n",
      "Epoch 3, Step 600, Loss: 0.8873047232627869\n",
      "Epoch 4, Step 0, Loss: 1.0299557447433472\n",
      "Epoch 4, Step 100, Loss: 0.9152315258979797\n",
      "Epoch 4, Step 200, Loss: 0.8734794855117798\n",
      "Epoch 4, Step 300, Loss: 0.8206257820129395\n",
      "Epoch 4, Step 400, Loss: 0.8945872187614441\n",
      "Epoch 4, Step 500, Loss: 0.5639907717704773\n",
      "Epoch 4, Step 600, Loss: 0.8131001591682434\n",
      "Epoch 5, Step 0, Loss: 0.6529038548469543\n",
      "Epoch 5, Step 100, Loss: 0.8001666069030762\n",
      "Epoch 5, Step 200, Loss: 0.7254694700241089\n",
      "Epoch 5, Step 300, Loss: 0.5591560006141663\n",
      "Epoch 5, Step 400, Loss: 0.7857194542884827\n",
      "Epoch 5, Step 500, Loss: 0.7843795418739319\n",
      "Epoch 5, Step 600, Loss: 0.4855175018310547\n",
      "Epoch 6, Step 0, Loss: 0.6551499366760254\n",
      "Epoch 6, Step 100, Loss: 0.7068026661872864\n",
      "Epoch 6, Step 200, Loss: 0.5273529291152954\n",
      "Epoch 6, Step 300, Loss: 0.6820624470710754\n",
      "Epoch 6, Step 400, Loss: 0.6531760692596436\n",
      "Epoch 6, Step 500, Loss: 0.4899613559246063\n",
      "Epoch 6, Step 600, Loss: 0.675464928150177\n",
      "Epoch 7, Step 0, Loss: 0.42228153347969055\n",
      "Epoch 7, Step 100, Loss: 0.5066057443618774\n",
      "Epoch 7, Step 200, Loss: 0.5285290479660034\n",
      "Epoch 7, Step 300, Loss: 0.45429331064224243\n",
      "Epoch 7, Step 400, Loss: 0.70179283618927\n",
      "Epoch 7, Step 500, Loss: 0.43614691495895386\n",
      "Epoch 7, Step 600, Loss: 0.7387484908103943\n",
      "Training complete.\n"
     ]
    },
    {
     "data": {
      "text/plain": [
       "CIFAR10_CNN(\n",
       "  (conv1): Conv2d(3, 32, kernel_size=(3, 3), stride=(1, 1), padding=(1, 1))\n",
       "  (conv2): Conv2d(32, 64, kernel_size=(3, 3), stride=(1, 1), padding=(1, 1))\n",
       "  (pool): MaxPool2d(kernel_size=2, stride=2, padding=0, dilation=1, ceil_mode=False)\n",
       "  (fc1): Linear(in_features=4096, out_features=512, bias=True)\n",
       "  (fc2): Linear(in_features=512, out_features=10, bias=True)\n",
       "  (relu): ReLU()\n",
       "  (dropout): Dropout(p=0.5, inplace=False)\n",
       ")"
      ]
     },
     "execution_count": 15,
     "metadata": {},
     "output_type": "execute_result"
    }
   ],
   "source": [
    "adamModel = CIFAR10_CNN().to(device)\n",
    "adamOptimizer = torch.optim.Adam(adamModel.parameters(), lr=1e-3)\n",
    "train(adamModel, adamOptimizer, epochs=epochs)"
   ]
  },
  {
   "cell_type": "code",
   "execution_count": 16,
   "metadata": {},
   "outputs": [
    {
     "name": "stdout",
     "output_type": "stream",
     "text": [
      "IPS (\n",
      "Parameter Group 0\n",
      "    T: 4375.0\n",
      "    lower_bound: 0\n",
      ")\n",
      "Epoch 1, Step 0, Loss: 2.302015781402588\n",
      "Epoch 1, Step 100, Loss: 1.910615086555481\n",
      "Epoch 1, Step 200, Loss: 2.0171751976013184\n",
      "Epoch 1, Step 300, Loss: 1.4746981859207153\n",
      "Epoch 1, Step 400, Loss: 1.7717806100845337\n",
      "Epoch 1, Step 500, Loss: 1.581088662147522\n",
      "Epoch 1, Step 600, Loss: 1.5190372467041016\n",
      "Epoch 2, Step 0, Loss: 1.7663358449935913\n",
      "Epoch 2, Step 100, Loss: 1.548214316368103\n",
      "Epoch 2, Step 200, Loss: 1.757723093032837\n",
      "Epoch 2, Step 300, Loss: 1.6019312143325806\n",
      "Epoch 2, Step 400, Loss: 1.4914294481277466\n",
      "Epoch 2, Step 500, Loss: 1.4964945316314697\n",
      "Epoch 2, Step 600, Loss: 1.4831922054290771\n",
      "Epoch 3, Step 0, Loss: 1.4721629619598389\n",
      "Epoch 3, Step 100, Loss: 1.5736662149429321\n",
      "Epoch 3, Step 200, Loss: 1.3346246480941772\n",
      "Epoch 3, Step 300, Loss: 1.4723228216171265\n",
      "Epoch 3, Step 400, Loss: 1.4883993864059448\n",
      "Epoch 3, Step 500, Loss: 1.5330692529678345\n",
      "Epoch 3, Step 600, Loss: 1.189348816871643\n",
      "Epoch 4, Step 0, Loss: 1.3798418045043945\n",
      "Epoch 4, Step 100, Loss: 1.3232042789459229\n",
      "Epoch 4, Step 200, Loss: 1.5251578092575073\n",
      "Epoch 4, Step 300, Loss: 1.1966447830200195\n",
      "Epoch 4, Step 400, Loss: 1.6935737133026123\n",
      "Epoch 4, Step 500, Loss: 1.398263692855835\n",
      "Epoch 4, Step 600, Loss: 1.2934502363204956\n",
      "Epoch 5, Step 0, Loss: 1.3380181789398193\n",
      "Epoch 5, Step 100, Loss: 1.3676836490631104\n",
      "Epoch 5, Step 200, Loss: 1.456797480583191\n",
      "Epoch 5, Step 300, Loss: 1.2223587036132812\n",
      "Epoch 5, Step 400, Loss: 1.4855012893676758\n",
      "Epoch 5, Step 500, Loss: 1.2663158178329468\n",
      "Epoch 5, Step 600, Loss: 1.1381306648254395\n",
      "Epoch 6, Step 0, Loss: 1.3173143863677979\n",
      "Epoch 6, Step 100, Loss: 1.496626853942871\n",
      "Epoch 6, Step 200, Loss: 1.542553186416626\n",
      "Epoch 6, Step 300, Loss: 1.6187994480133057\n",
      "Epoch 6, Step 400, Loss: 1.1354825496673584\n",
      "Epoch 6, Step 500, Loss: 1.2039703130722046\n",
      "Epoch 6, Step 600, Loss: 1.117163062095642\n",
      "Epoch 7, Step 0, Loss: 1.387218713760376\n",
      "Epoch 7, Step 100, Loss: 1.1622824668884277\n",
      "Epoch 7, Step 200, Loss: 1.4380769729614258\n",
      "Epoch 7, Step 300, Loss: 1.6259267330169678\n",
      "Epoch 7, Step 400, Loss: 1.2273136377334595\n",
      "Epoch 7, Step 500, Loss: 1.153860330581665\n",
      "Epoch 7, Step 600, Loss: 1.4013608694076538\n",
      "Training complete.\n"
     ]
    },
    {
     "data": {
      "text/plain": [
       "CIFAR10_CNN(\n",
       "  (conv1): Conv2d(3, 32, kernel_size=(3, 3), stride=(1, 1), padding=(1, 1))\n",
       "  (conv2): Conv2d(32, 64, kernel_size=(3, 3), stride=(1, 1), padding=(1, 1))\n",
       "  (pool): MaxPool2d(kernel_size=2, stride=2, padding=0, dilation=1, ceil_mode=False)\n",
       "  (fc1): Linear(in_features=4096, out_features=512, bias=True)\n",
       "  (fc2): Linear(in_features=512, out_features=10, bias=True)\n",
       "  (relu): ReLU()\n",
       "  (dropout): Dropout(p=0.5, inplace=False)\n",
       ")"
      ]
     },
     "execution_count": 16,
     "metadata": {},
     "output_type": "execute_result"
    }
   ],
   "source": [
    "ipsModel = CIFAR10_CNN().to(device)\n",
    "ipsOptimizer = IPS(ipsModel.parameters(), lower_bound=0, T=epochs * (len(trainset)/batch_size))\n",
    "train(ipsModel, ipsOptimizer, epochs=epochs)"
   ]
  },
  {
   "cell_type": "code",
   "execution_count": 20,
   "metadata": {},
   "outputs": [
    {
     "name": "stdout",
     "output_type": "stream",
     "text": [
      "49\n",
      "49\n",
      "49\n"
     ]
    },
    {
     "data": {
      "image/png": "[encoded data removed]",
      "text/plain": [
       "<Figure size 640x480 with 1 Axes>"
      ]
     },
     "metadata": {},
     "output_type": "display_data"
    }
   ],
   "source": [
    "\n",
    "models = [\n",
    "    (adaIpsModel, 'adaips optimizer'),\n",
    "    (adamModel, 'adam optimizer'),\n",
    "    # (adaIpsModel_, 'adaips per param optimizer'),\n",
    "    \n",
    "    (ipsModel, 'ips optimizer')\n",
    "\n",
    "]\n",
    "exclude = []\n",
    "focus = [adaIpsModel]\n",
    "interval = 1\n",
    "for model, optimizer in models:\n",
    "    if model in exclude: continue\n",
    "    print(len(model.t_losses))\n",
    "    plt.plot(\n",
    "        [i * 100 for i, loss in enumerate(model.t_losses) if i % interval == 0], \n",
    "        [loss for i, loss in enumerate(model.t_losses) if i % interval == 0], \n",
    "        label=optimizer,\n",
    "        alpha=0.5 if model not in focus else 1\n",
    "    )\n",
    "plt.title(\"Training loss CIFAR-10 dataset\")\n",
    "plt.legend()\n",
    "plt.show()"
   ]
  },
  {
   "cell_type": "code",
   "execution_count": 22,
   "metadata": {},
   "outputs": [
    {
     "name": "stdout",
     "output_type": "stream",
     "text": [
      "adaips optimizer\n",
      "predicted classes: [0 1 2 3 4 5 6 7 8 9]\n",
      "accuracy: 0.7275\n",
      "precision: 0.7289670041583863\n",
      "recall: 0.7275\n",
      "fscore: 0.725602408910698\n",
      "--------------------\n",
      "adam optimizer\n",
      "predicted classes: [0 1 2 3 4 5 6 7 8 9]\n",
      "accuracy: 0.7282\n",
      "precision: 0.7304864127035547\n",
      "recall: 0.7282\n",
      "fscore: 0.7271870143349867\n",
      "--------------------\n",
      "ips optimizer\n",
      "predicted classes: [0 1 2 3 4 5 6 7 8 9]\n",
      "accuracy: 0.5594\n",
      "precision: 0.5580563376728165\n",
      "recall: 0.5594\n",
      "fscore: 0.5548512713594722\n",
      "--------------------\n"
     ]
    }
   ],
   "source": [
    "for model, optimizer in models:\n",
    "    print(optimizer)\n",
    "    test(model)\n",
    "    print('-' * 20, end='\\n')"
   ]
  },
  {
   "cell_type": "markdown",
   "metadata": {},
   "source": [
    "$$\n",
    "       \\begin{aligned}\n",
    "            &\\rule{110mm}{0.4pt}                                                                 \\\\\n",
    "            &\\textbf{input}      : \\gamma \\text{ (lr)}, \\beta_1, \\beta_2\n",
    "                \\text{ (betas)},\\theta_0 \\text{ (params)},f(\\theta) \\text{ (objective)}          \\\\\n",
    "            &\\hspace{13mm}      \\lambda \\text{ (weight decay)},  \\: \\textit{amsgrad},\n",
    "                \\:\\textit{maximize},  \\: \\epsilon \\text{ (epsilon)}                              \\\\\n",
    "            &\\textbf{initialize} :  m_0 \\leftarrow 0 \\text{ ( first moment)},\n",
    "                v_0\\leftarrow 0 \\text{ (second moment)},\\: v_0^{max}\\leftarrow 0          \\\\[-1.ex]\n",
    "            &\\rule{110mm}{0.4pt}                                                                 \\\\\n",
    "            &\\textbf{for} \\: t=1 \\: \\textbf{to} \\: \\ldots \\: \\textbf{do}                         \\\\\n",
    "\n",
    "            &\\hspace{5mm}\\textbf{if} \\: \\textit{maximize}:                                       \\\\\n",
    "            &\\hspace{10mm}g_t           \\leftarrow   -\\nabla_{\\theta} f_t (\\theta_{t-1})         \\\\\n",
    "            &\\hspace{5mm}\\textbf{else}                                                           \\\\\n",
    "            &\\hspace{10mm}g_t           \\leftarrow   \\nabla_{\\theta} f_t (\\theta_{t-1})          \\\\\n",
    "            &\\hspace{5mm}\\textbf{if} \\: \\lambda \\neq 0                                           \\\\\n",
    "            &\\hspace{10mm} g_t \\leftarrow g_t + \\lambda  \\theta_{t-1}                            \\\\\n",
    "            &\\hspace{5mm}m_t           \\leftarrow   \\beta_1 m_{t-1} + (1 - \\beta_1) g_t          \\\\\n",
    "            &\\hspace{5mm}v_t           \\leftarrow   \\beta_2 v_{t-1} + (1-\\beta_2) g^2_t          \\\\\n",
    "            &\\hspace{5mm}\\widehat{m_t} \\leftarrow   m_t/\\big(1-\\beta_1^t \\big)                   \\\\\n",
    "            &\\hspace{5mm}\\textbf{if} \\: amsgrad                                                  \\\\\n",
    "            &\\hspace{10mm} v_t^{max} \\leftarrow \\mathrm{max}(v_{t-1}^{max},v_t)                  \\\\\n",
    "            &\\hspace{10mm}\\widehat{v_t} \\leftarrow v_t^{max}/\\big(1-\\beta_2^t \\big)              \\\\\n",
    "            &\\hspace{5mm}\\textbf{else}                                                           \\\\\n",
    "            &\\hspace{10mm}\\widehat{v_t} \\leftarrow   v_t/\\big(1-\\beta_2^t \\big)                  \\\\\n",
    "            &\\hspace{5mm}\\theta_t \\leftarrow \\theta_{t-1} - \\gamma \\widehat{m_t}/\n",
    "                \\big(\\sqrt{\\widehat{v_t}} + \\epsilon \\big)                                       \\\\\n",
    "            &\\rule{110mm}{0.4pt}                                                          \\\\[-1.ex]\n",
    "            &\\bf{return} \\:  \\theta_t                                                     \\\\[-1.ex]\n",
    "            &\\rule{110mm}{0.4pt}                                                          \\\\[-1.ex]\n",
    "       \\end{aligned}\n",
    "$$"
   ]
  }
 ],
 "metadata": {
  "kernelspec": {
   "display_name": "Python 3",
   "language": "python",
   "name": "python3"
  },
  "language_info": {
   "codemirror_mode": {
    "name": "ipython",
    "version": 3
   },
   "file_extension": ".py",
   "mimetype": "text/x-python",
   "name": "python",
   "nbconvert_exporter": "python",
   "pygments_lexer": "ipython3",
   "version": "3.11.1"
  }
 },
 "nbformat": 4,
 "nbformat_minor": 2
}
