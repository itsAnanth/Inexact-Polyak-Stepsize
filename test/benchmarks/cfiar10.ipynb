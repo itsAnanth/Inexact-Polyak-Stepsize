{
 "cells": [
  {
   "cell_type": "code",
   "execution_count": null,
   "metadata": {},
   "outputs": [],
   "source": [
    "import sys\n",
    "import os\n",
    "sys.path.append('../')"
   ]
  },
  {
   "cell_type": "code",
   "execution_count": null,
   "metadata": {},
   "outputs": [],
   "source": [
    "%load_ext autoreload\n",
    "%autoreload 2\n",
    "\n",
    "import torch\n",
    "import torch.nn as nn\n",
    "import torch.optim as optim\n",
    "import torch.nn.functional as F\n",
    "import torchvision.transforms as transforms\n",
    "from sklearn.metrics import accuracy_score\n",
    "import matplotlib.pyplot as plt\n",
    "from optimizers import AdaIPS_S, IPS\n",
    "from utils.getData import getData"
   ]
  },
  {
   "cell_type": "code",
   "execution_count": 3,
   "metadata": {},
   "outputs": [],
   "source": [
    "# Device setup\n",
    "device = torch.device('cuda' if torch.cuda.is_available() else 'cpu')\n",
    "\n",
    "class CIFAR10_CNN(nn.Module):\n",
    "    def __init__(self):\n",
    "        super(CIFAR10_CNN, self).__init__()\n",
    "        self.conv1 = nn.Conv2d(3, 32, kernel_size=3, padding=1)\n",
    "        self.conv2 = nn.Conv2d(32, 64, kernel_size=3, padding=1)\n",
    "        self.pool = nn.MaxPool2d(kernel_size=2, stride=2)\n",
    "        self.fc1 = nn.Linear(64 * 8 * 8, 512)\n",
    "        self.fc2 = nn.Linear(512, 10)\n",
    "        self.relu = nn.ReLU()\n",
    "        self.dropout = nn.Dropout(0.5)\n",
    "        \n",
    "        self.t_losses = []\n",
    "        self.v_losses = []\n",
    "    \n",
    "    def forward(self, x):\n",
    "        x = self.pool(self.relu(self.conv1(x)))\n",
    "        x = self.pool(self.relu(self.conv2(x)))\n",
    "        x = x.view(-1, 64 * 8 * 8)\n",
    "        x = self.relu(self.fc1(x))\n",
    "        x = self.dropout(x)\n",
    "        x = self.fc2(x)\n",
    "        return x\n"
   ]
  },
  {
   "cell_type": "code",
   "execution_count": 4,
   "metadata": {},
   "outputs": [],
   "source": [
    "epochs = 7\n",
    "batch_size = 64"
   ]
  },
  {
   "cell_type": "code",
   "execution_count": 5,
   "metadata": {},
   "outputs": [
    {
     "name": "stdout",
     "output_type": "stream",
     "text": [
      "Files already downloaded and verified\n",
      "Files already downloaded and verified\n"
     ]
    }
   ],
   "source": [
    "transform = transforms.Compose([\n",
    "    transforms.ToTensor(),  \n",
    "    transforms.Normalize((0.5, 0.5, 0.5), (0.5, 0.5, 0.5))  # Normalize to [-1, 1]\n",
    "])\n",
    "trainloader, trainset, testloader, testset, validationloader, valset = getData('CIFAR10', transform=transform, batch_size=batch_size)"
   ]
  },
  {
   "cell_type": "code",
   "execution_count": 6,
   "metadata": {},
   "outputs": [],
   "source": [
    "def train(model, optimizer, epochs=2):\n",
    "    print(optimizer)\n",
    "    criterion = nn.CrossEntropyLoss()\n",
    "    optimizer = optimizer\n",
    "\n",
    "    num_epochs = epochs\n",
    "    for epoch in range(num_epochs):\n",
    "        for i, (inputs, labels) in enumerate(trainloader):\n",
    "            inputs, labels = inputs.to(device), labels.to(device)\n",
    "\n",
    "            def closure():\n",
    "                optimizer.zero_grad()\n",
    "                outputs = model(inputs)\n",
    "                loss = criterion(outputs, labels)\n",
    "                loss.backward()\n",
    "                return loss\n",
    "\n",
    "    \n",
    "            # if i % 100 == 0:                \n",
    "            #     with torch.no_grad():\n",
    "            #         for v_i, (v_inputs, v_labels) in enumerate(validationloader):\n",
    "            #             v_inputs, v_labels = v_inputs.to(device), v_labels.to(device)\n",
    "            #             v_outputs = model(v_inputs)\n",
    "            #             v_loss = criterion(v_outputs, v_labels)\n",
    "                    \n",
    "            #         print(\"validation loss\", v_loss.item())                   \n",
    "            #     model.v_losses.append(v_loss.item())\n",
    "                \n",
    "            loss = optimizer.step(closure)\n",
    "            \n",
    "            if i % 100 == 0:\n",
    "                print(f'Epoch {epoch+1}, Step {i}, Loss: {loss}')\n",
    "                model.t_losses.append(loss.item())\n",
    "            \n",
    "\n",
    "    print(\"Training complete.\")\n",
    "    return model"
   ]
  },
  {
   "cell_type": "code",
   "execution_count": 7,
   "metadata": {},
   "outputs": [
    {
     "name": "stdout",
     "output_type": "stream",
     "text": [
      "initialized optimizer with per layer learning rate: False\n",
      "AdaIPS_S (\n",
      "Parameter Group 0\n",
      "    T0: 4375.0\n",
      "    beta_1: 0.9\n",
      "    beta_2: 0.999\n",
      "    eps: 1e-08\n",
      "    lower_bound: 0\n",
      ")\n",
      "Epoch 1, Step 0, Loss: 2.308689832687378\n",
      "Epoch 1, Step 100, Loss: 1.9260838031768799\n",
      "Epoch 1, Step 200, Loss: 1.6040610074996948\n",
      "Epoch 1, Step 300, Loss: 1.4899872541427612\n",
      "Epoch 1, Step 400, Loss: 1.5327430963516235\n",
      "Epoch 1, Step 500, Loss: 1.4508646726608276\n",
      "Epoch 1, Step 600, Loss: 1.3710414171218872\n",
      "Epoch 2, Step 0, Loss: 1.2455002069473267\n",
      "Epoch 2, Step 100, Loss: 1.4046998023986816\n",
      "Epoch 2, Step 200, Loss: 1.4127634763717651\n",
      "Epoch 2, Step 300, Loss: 1.149605631828308\n",
      "Epoch 2, Step 400, Loss: 1.2241606712341309\n",
      "Epoch 2, Step 500, Loss: 1.0404912233352661\n",
      "Epoch 2, Step 600, Loss: 1.0658007860183716\n",
      "Epoch 3, Step 0, Loss: 1.0916084051132202\n",
      "Epoch 3, Step 100, Loss: 0.7650095224380493\n",
      "Epoch 3, Step 200, Loss: 1.1753629446029663\n",
      "Epoch 3, Step 300, Loss: 0.9614742994308472\n",
      "Epoch 3, Step 400, Loss: 1.1776243448257446\n",
      "Epoch 3, Step 500, Loss: 1.1848701238632202\n",
      "Epoch 3, Step 600, Loss: 0.8305186033248901\n",
      "Epoch 4, Step 0, Loss: 0.7667086720466614\n",
      "Epoch 4, Step 100, Loss: 0.8678104877471924\n",
      "Epoch 4, Step 200, Loss: 0.8754736185073853\n",
      "Epoch 4, Step 300, Loss: 0.7740140557289124\n",
      "Epoch 4, Step 400, Loss: 0.7928698062896729\n",
      "Epoch 4, Step 500, Loss: 0.6607457399368286\n",
      "Epoch 4, Step 600, Loss: 0.8162856101989746\n",
      "Epoch 5, Step 0, Loss: 0.6497291922569275\n",
      "Epoch 5, Step 100, Loss: 0.6386154294013977\n",
      "Epoch 5, Step 200, Loss: 0.804520308971405\n",
      "Epoch 5, Step 300, Loss: 0.832608163356781\n",
      "Epoch 5, Step 400, Loss: 0.6870976686477661\n",
      "Epoch 5, Step 500, Loss: 1.0887843370437622\n",
      "Epoch 5, Step 600, Loss: 0.8530802130699158\n",
      "Epoch 6, Step 0, Loss: 0.5985648036003113\n",
      "Epoch 6, Step 100, Loss: 0.7402011752128601\n",
      "Epoch 6, Step 200, Loss: 0.7348455786705017\n",
      "Epoch 6, Step 300, Loss: 0.6717461943626404\n",
      "Epoch 6, Step 400, Loss: 1.0062865018844604\n",
      "Epoch 6, Step 500, Loss: 0.7731829881668091\n",
      "Epoch 6, Step 600, Loss: 0.6588461995124817\n",
      "Epoch 7, Step 0, Loss: 0.5384988188743591\n",
      "Epoch 7, Step 100, Loss: 0.5491856932640076\n",
      "Epoch 7, Step 200, Loss: 0.6737561225891113\n",
      "Epoch 7, Step 300, Loss: 0.6218405961990356\n",
      "Epoch 7, Step 400, Loss: 0.7759898900985718\n",
      "Epoch 7, Step 500, Loss: 0.7361572980880737\n",
      "Epoch 7, Step 600, Loss: 0.6392305493354797\n",
      "Training complete.\n"
     ]
    },
    {
     "data": {
      "text/plain": [
       "CIFAR10_CNN(\n",
       "  (conv1): Conv2d(3, 32, kernel_size=(3, 3), stride=(1, 1), padding=(1, 1))\n",
       "  (conv2): Conv2d(32, 64, kernel_size=(3, 3), stride=(1, 1), padding=(1, 1))\n",
       "  (pool): MaxPool2d(kernel_size=2, stride=2, padding=0, dilation=1, ceil_mode=False)\n",
       "  (fc1): Linear(in_features=4096, out_features=512, bias=True)\n",
       "  (fc2): Linear(in_features=512, out_features=10, bias=True)\n",
       "  (relu): ReLU()\n",
       "  (dropout): Dropout(p=0.5, inplace=False)\n",
       ")"
      ]
     },
     "execution_count": 7,
     "metadata": {},
     "output_type": "execute_result"
    }
   ],
   "source": [
    "adaIpsModel = CIFAR10_CNN().to(device)\n",
    "adaIpsOptimizer = AdaIPS_S(adaIpsModel.parameters(), lower_bound=0, T=epochs * (len(trainset)/batch_size))\n",
    "train(adaIpsModel, adaIpsOptimizer, epochs=epochs)"
   ]
  },
  {
   "cell_type": "code",
   "execution_count": 8,
   "metadata": {},
   "outputs": [
    {
     "name": "stdout",
     "output_type": "stream",
     "text": [
      "Adam (\n",
      "Parameter Group 0\n",
      "    amsgrad: False\n",
      "    betas: (0.9, 0.999)\n",
      "    capturable: False\n",
      "    differentiable: False\n",
      "    eps: 1e-08\n",
      "    foreach: None\n",
      "    fused: None\n",
      "    lr: 0.001\n",
      "    maximize: False\n",
      "    weight_decay: 0\n",
      ")\n",
      "Epoch 1, Step 0, Loss: 2.3095335960388184\n",
      "Epoch 1, Step 100, Loss: 1.5039349794387817\n",
      "Epoch 1, Step 200, Loss: 1.6522247791290283\n",
      "Epoch 1, Step 300, Loss: 1.4081298112869263\n",
      "Epoch 1, Step 400, Loss: 1.5366029739379883\n",
      "Epoch 1, Step 500, Loss: 1.373394250869751\n",
      "Epoch 1, Step 600, Loss: 1.1670578718185425\n",
      "Epoch 2, Step 0, Loss: 1.159612774848938\n",
      "Epoch 2, Step 100, Loss: 1.2774282693862915\n",
      "Epoch 2, Step 200, Loss: 1.1626918315887451\n",
      "Epoch 2, Step 300, Loss: 1.2818711996078491\n",
      "Epoch 2, Step 400, Loss: 1.252949833869934\n",
      "Epoch 2, Step 500, Loss: 1.1457561254501343\n",
      "Epoch 2, Step 600, Loss: 1.3243863582611084\n",
      "Epoch 3, Step 0, Loss: 0.8682077527046204\n",
      "Epoch 3, Step 100, Loss: 1.0930752754211426\n",
      "Epoch 3, Step 200, Loss: 0.8998247981071472\n",
      "Epoch 3, Step 300, Loss: 0.9254341721534729\n",
      "Epoch 3, Step 400, Loss: 0.902236819267273\n",
      "Epoch 3, Step 500, Loss: 0.7278861999511719\n",
      "Epoch 3, Step 600, Loss: 1.0061581134796143\n",
      "Epoch 4, Step 0, Loss: 0.5147333741188049\n",
      "Epoch 4, Step 100, Loss: 0.7578754425048828\n",
      "Epoch 4, Step 200, Loss: 0.9243909120559692\n",
      "Epoch 4, Step 300, Loss: 0.764383852481842\n",
      "Epoch 4, Step 400, Loss: 0.6423541307449341\n",
      "Epoch 4, Step 500, Loss: 0.8156630992889404\n",
      "Epoch 4, Step 600, Loss: 0.6420557498931885\n",
      "Epoch 5, Step 0, Loss: 0.7077034115791321\n",
      "Epoch 5, Step 100, Loss: 0.844628632068634\n",
      "Epoch 5, Step 200, Loss: 0.886526346206665\n",
      "Epoch 5, Step 300, Loss: 0.5262392163276672\n",
      "Epoch 5, Step 400, Loss: 0.6618197560310364\n",
      "Epoch 5, Step 500, Loss: 0.6527947187423706\n",
      "Epoch 5, Step 600, Loss: 0.8854063749313354\n",
      "Epoch 6, Step 0, Loss: 0.7015186548233032\n",
      "Epoch 6, Step 100, Loss: 0.8718847036361694\n",
      "Epoch 6, Step 200, Loss: 0.6277794241905212\n",
      "Epoch 6, Step 300, Loss: 0.47134730219841003\n",
      "Epoch 6, Step 400, Loss: 0.45720618963241577\n",
      "Epoch 6, Step 500, Loss: 0.5796207189559937\n",
      "Epoch 6, Step 600, Loss: 0.4729376435279846\n",
      "Epoch 7, Step 0, Loss: 0.5938997268676758\n",
      "Epoch 7, Step 100, Loss: 0.4805186092853546\n",
      "Epoch 7, Step 200, Loss: 0.6032226085662842\n",
      "Epoch 7, Step 300, Loss: 0.6482108235359192\n",
      "Epoch 7, Step 400, Loss: 0.499896764755249\n",
      "Epoch 7, Step 500, Loss: 0.5716221928596497\n",
      "Epoch 7, Step 600, Loss: 0.6837941408157349\n",
      "Training complete.\n"
     ]
    },
    {
     "data": {
      "text/plain": [
       "CIFAR10_CNN(\n",
       "  (conv1): Conv2d(3, 32, kernel_size=(3, 3), stride=(1, 1), padding=(1, 1))\n",
       "  (conv2): Conv2d(32, 64, kernel_size=(3, 3), stride=(1, 1), padding=(1, 1))\n",
       "  (pool): MaxPool2d(kernel_size=2, stride=2, padding=0, dilation=1, ceil_mode=False)\n",
       "  (fc1): Linear(in_features=4096, out_features=512, bias=True)\n",
       "  (fc2): Linear(in_features=512, out_features=10, bias=True)\n",
       "  (relu): ReLU()\n",
       "  (dropout): Dropout(p=0.5, inplace=False)\n",
       ")"
      ]
     },
     "execution_count": 8,
     "metadata": {},
     "output_type": "execute_result"
    }
   ],
   "source": [
    "adamModel = CIFAR10_CNN().to(device)\n",
    "adamOptimizer = torch.optim.Adam(adamModel.parameters(), lr=1e-3)\n",
    "train(adamModel, adamOptimizer, epochs=epochs)"
   ]
  },
  {
   "cell_type": "code",
   "execution_count": 9,
   "metadata": {},
   "outputs": [
    {
     "name": "stdout",
     "output_type": "stream",
     "text": [
      "IPS (\n",
      "Parameter Group 0\n",
      "    T: 4375.0\n",
      "    lower_bound: 0\n",
      ")\n",
      "Epoch 1, Step 0, Loss: 2.313530683517456\n",
      "Epoch 1, Step 100, Loss: 2.021688461303711\n",
      "Epoch 1, Step 200, Loss: 1.89016592502594\n",
      "Epoch 1, Step 300, Loss: 1.7990022897720337\n",
      "Epoch 1, Step 400, Loss: 1.6232026815414429\n",
      "Epoch 1, Step 500, Loss: 1.5266387462615967\n",
      "Epoch 1, Step 600, Loss: 1.505566954612732\n",
      "Epoch 2, Step 0, Loss: 1.7072556018829346\n",
      "Epoch 2, Step 100, Loss: 1.4372769594192505\n",
      "Epoch 2, Step 200, Loss: 1.4727615118026733\n",
      "Epoch 2, Step 300, Loss: 1.3867188692092896\n",
      "Epoch 2, Step 400, Loss: 1.6029969453811646\n",
      "Epoch 2, Step 500, Loss: 1.6268686056137085\n",
      "Epoch 2, Step 600, Loss: 1.3704012632369995\n",
      "Epoch 3, Step 0, Loss: 1.6034107208251953\n",
      "Epoch 3, Step 100, Loss: 1.31381094455719\n",
      "Epoch 3, Step 200, Loss: 1.319515585899353\n",
      "Epoch 3, Step 300, Loss: 1.4114837646484375\n",
      "Epoch 3, Step 400, Loss: 1.4760252237319946\n",
      "Epoch 3, Step 500, Loss: 1.4381840229034424\n",
      "Epoch 3, Step 600, Loss: 1.6299458742141724\n",
      "Epoch 4, Step 0, Loss: 1.5162134170532227\n",
      "Epoch 4, Step 100, Loss: 1.4290313720703125\n",
      "Epoch 4, Step 200, Loss: 1.380732774734497\n",
      "Epoch 4, Step 300, Loss: 1.3642373085021973\n",
      "Epoch 4, Step 400, Loss: 1.2569347620010376\n",
      "Epoch 4, Step 500, Loss: 1.3053377866744995\n",
      "Epoch 4, Step 600, Loss: 1.2461442947387695\n",
      "Epoch 5, Step 0, Loss: 1.3858891725540161\n",
      "Epoch 5, Step 100, Loss: 1.208112359046936\n",
      "Epoch 5, Step 200, Loss: 1.3851765394210815\n",
      "Epoch 5, Step 300, Loss: 1.3017646074295044\n",
      "Epoch 5, Step 400, Loss: 1.5773226022720337\n",
      "Epoch 5, Step 500, Loss: 1.4814207553863525\n",
      "Epoch 5, Step 600, Loss: 1.3662739992141724\n",
      "Epoch 6, Step 0, Loss: 1.523531436920166\n",
      "Epoch 6, Step 100, Loss: 1.3830716609954834\n",
      "Epoch 6, Step 200, Loss: 1.1922082901000977\n",
      "Epoch 6, Step 300, Loss: 1.3349446058273315\n",
      "Epoch 6, Step 400, Loss: 1.2538639307022095\n",
      "Epoch 6, Step 500, Loss: 1.6635081768035889\n",
      "Epoch 6, Step 600, Loss: 1.2168207168579102\n",
      "Epoch 7, Step 0, Loss: 1.232567548751831\n",
      "Epoch 7, Step 100, Loss: 1.2831180095672607\n",
      "Epoch 7, Step 200, Loss: 1.0015579462051392\n",
      "Epoch 7, Step 300, Loss: 1.4214754104614258\n",
      "Epoch 7, Step 400, Loss: 1.4081224203109741\n",
      "Epoch 7, Step 500, Loss: 1.2959171533584595\n",
      "Epoch 7, Step 600, Loss: 1.3717412948608398\n",
      "Training complete.\n"
     ]
    },
    {
     "data": {
      "text/plain": [
       "CIFAR10_CNN(\n",
       "  (conv1): Conv2d(3, 32, kernel_size=(3, 3), stride=(1, 1), padding=(1, 1))\n",
       "  (conv2): Conv2d(32, 64, kernel_size=(3, 3), stride=(1, 1), padding=(1, 1))\n",
       "  (pool): MaxPool2d(kernel_size=2, stride=2, padding=0, dilation=1, ceil_mode=False)\n",
       "  (fc1): Linear(in_features=4096, out_features=512, bias=True)\n",
       "  (fc2): Linear(in_features=512, out_features=10, bias=True)\n",
       "  (relu): ReLU()\n",
       "  (dropout): Dropout(p=0.5, inplace=False)\n",
       ")"
      ]
     },
     "execution_count": 9,
     "metadata": {},
     "output_type": "execute_result"
    }
   ],
   "source": [
    "ipsModel = CIFAR10_CNN().to(device)\n",
    "ipsOptimizer = IPS(ipsModel.parameters(), lower_bound=0, T=epochs * (len(trainset)/batch_size))\n",
    "train(ipsModel, ipsOptimizer, epochs=epochs)"
   ]
  },
  {
   "cell_type": "code",
   "execution_count": 18,
   "metadata": {},
   "outputs": [],
   "source": [
    "from sklearn.metrics import precision_recall_fscore_support\n",
    "import numpy as np\n",
    "def test(model):\n",
    "    print(model)\n",
    "    model.eval()\n",
    "    for i, (inputs, labels) in enumerate(testloader):\n",
    "        with torch.no_grad():\n",
    "            output = model(inputs)\n",
    "            output = output.argmax(axis=1)\n",
    "        \n",
    "        print(np.unique(output.detach().numpy()))\n",
    "        precision, recall, fscore, _ = precision_recall_fscore_support(labels, output.detach().numpy(), average='weighted')\n",
    "        print(accuracy_score(labels, output.detach().numpy()))\n",
    "        print(precision, recall, fscore)\n",
    "        \n",
    "\n",
    "        precision, recall, fscore, support = precision_recall_fscore_support(labels, output, average=None)\n",
    "\n",
    "        # for i in range(10):\n",
    "        #     print(f\"Class {i} -> Precision: {precision[i]:.4f}, Recall: {recall[i]:.4f}, F1-score: {fscore[i]:.4f}\")\n"
   ]
  },
  {
   "cell_type": "code",
   "execution_count": 19,
   "metadata": {},
   "outputs": [
    {
     "name": "stdout",
     "output_type": "stream",
     "text": [
      "CIFAR10_CNN(\n",
      "  (conv1): Conv2d(3, 32, kernel_size=(3, 3), stride=(1, 1), padding=(1, 1))\n",
      "  (conv2): Conv2d(32, 64, kernel_size=(3, 3), stride=(1, 1), padding=(1, 1))\n",
      "  (pool): MaxPool2d(kernel_size=2, stride=2, padding=0, dilation=1, ceil_mode=False)\n",
      "  (fc1): Linear(in_features=4096, out_features=512, bias=True)\n",
      "  (fc2): Linear(in_features=512, out_features=10, bias=True)\n",
      "  (relu): ReLU()\n",
      "  (dropout): Dropout(p=0.5, inplace=False)\n",
      ")\n",
      "[0 1 2 3 4 5 6 7 8 9]\n",
      "0.723\n",
      "0.7239847142086762 0.723 0.7195203933585477\n",
      "CIFAR10_CNN(\n",
      "  (conv1): Conv2d(3, 32, kernel_size=(3, 3), stride=(1, 1), padding=(1, 1))\n",
      "  (conv2): Conv2d(32, 64, kernel_size=(3, 3), stride=(1, 1), padding=(1, 1))\n",
      "  (pool): MaxPool2d(kernel_size=2, stride=2, padding=0, dilation=1, ceil_mode=False)\n",
      "  (fc1): Linear(in_features=4096, out_features=512, bias=True)\n",
      "  (fc2): Linear(in_features=512, out_features=10, bias=True)\n",
      "  (relu): ReLU()\n",
      "  (dropout): Dropout(p=0.5, inplace=False)\n",
      ")\n",
      "[0 1 2 3 4 5 6 7 8 9]\n",
      "0.721\n",
      "0.7250154486916934 0.721 0.7187615288183944\n",
      "CIFAR10_CNN(\n",
      "  (conv1): Conv2d(3, 32, kernel_size=(3, 3), stride=(1, 1), padding=(1, 1))\n",
      "  (conv2): Conv2d(32, 64, kernel_size=(3, 3), stride=(1, 1), padding=(1, 1))\n",
      "  (pool): MaxPool2d(kernel_size=2, stride=2, padding=0, dilation=1, ceil_mode=False)\n",
      "  (fc1): Linear(in_features=4096, out_features=512, bias=True)\n",
      "  (fc2): Linear(in_features=512, out_features=10, bias=True)\n",
      "  (relu): ReLU()\n",
      "  (dropout): Dropout(p=0.5, inplace=False)\n",
      ")\n",
      "[0 1 2 3 4 5 6 7 8 9]\n",
      "0.5726\n",
      "0.5676887610180129 0.5726 0.5651455705281729\n"
     ]
    }
   ],
   "source": [
    "test(adaIpsModel)\n",
    "test(adamModel)\n",
    "test(ipsModel)\n"
   ]
  },
  {
   "cell_type": "code",
   "execution_count": 10,
   "metadata": {},
   "outputs": [
    {
     "name": "stdout",
     "output_type": "stream",
     "text": [
      "49\n",
      "49\n",
      "49\n"
     ]
    },
    {
     "data": {
      "image/png": "[encoded data removed]",
      "text/plain": [
       "<Figure size 640x480 with 1 Axes>"
      ]
     },
     "metadata": {},
     "output_type": "display_data"
    }
   ],
   "source": [
    "\n",
    "models = [\n",
    "    (adaIpsModel, 'adaips optimizer'),\n",
    "    (adamModel, 'adam optimizer'),\n",
    "    # (adaIpsModel_, 'adaips per param optimizer'),\n",
    "    \n",
    "    (ipsModel, 'ips optimizer')\n",
    "\n",
    "]\n",
    "exclude = []\n",
    "focus = [adaIpsModel]\n",
    "interval = 1\n",
    "for model, optimizer in models:\n",
    "    if model in exclude: continue\n",
    "    print(len(model.t_losses))\n",
    "    plt.plot(\n",
    "        [i * 100 for i, loss in enumerate(model.t_losses) if i % interval == 0], \n",
    "        [loss for i, loss in enumerate(model.t_losses) if i % interval == 0], \n",
    "        label=optimizer,\n",
    "        alpha=0.5 if model not in focus else 1\n",
    "    )\n",
    "plt.title(\"Training loss CIFAR-10 dataset\")\n",
    "plt.legend()\n",
    "plt.show()"
   ]
  },
  {
   "cell_type": "markdown",
   "metadata": {},
   "source": [
    "$$\n",
    "       \\begin{aligned}\n",
    "            &\\rule{110mm}{0.4pt}                                                                 \\\\\n",
    "            &\\textbf{input}      : \\gamma \\text{ (lr)}, \\beta_1, \\beta_2\n",
    "                \\text{ (betas)},\\theta_0 \\text{ (params)},f(\\theta) \\text{ (objective)}          \\\\\n",
    "            &\\hspace{13mm}      \\lambda \\text{ (weight decay)},  \\: \\textit{amsgrad},\n",
    "                \\:\\textit{maximize},  \\: \\epsilon \\text{ (epsilon)}                              \\\\\n",
    "            &\\textbf{initialize} :  m_0 \\leftarrow 0 \\text{ ( first moment)},\n",
    "                v_0\\leftarrow 0 \\text{ (second moment)},\\: v_0^{max}\\leftarrow 0          \\\\[-1.ex]\n",
    "            &\\rule{110mm}{0.4pt}                                                                 \\\\\n",
    "            &\\textbf{for} \\: t=1 \\: \\textbf{to} \\: \\ldots \\: \\textbf{do}                         \\\\\n",
    "\n",
    "            &\\hspace{5mm}\\textbf{if} \\: \\textit{maximize}:                                       \\\\\n",
    "            &\\hspace{10mm}g_t           \\leftarrow   -\\nabla_{\\theta} f_t (\\theta_{t-1})         \\\\\n",
    "            &\\hspace{5mm}\\textbf{else}                                                           \\\\\n",
    "            &\\hspace{10mm}g_t           \\leftarrow   \\nabla_{\\theta} f_t (\\theta_{t-1})          \\\\\n",
    "            &\\hspace{5mm}\\textbf{if} \\: \\lambda \\neq 0                                           \\\\\n",
    "            &\\hspace{10mm} g_t \\leftarrow g_t + \\lambda  \\theta_{t-1}                            \\\\\n",
    "            &\\hspace{5mm}m_t           \\leftarrow   \\beta_1 m_{t-1} + (1 - \\beta_1) g_t          \\\\\n",
    "            &\\hspace{5mm}v_t           \\leftarrow   \\beta_2 v_{t-1} + (1-\\beta_2) g^2_t          \\\\\n",
    "            &\\hspace{5mm}\\widehat{m_t} \\leftarrow   m_t/\\big(1-\\beta_1^t \\big)                   \\\\\n",
    "            &\\hspace{5mm}\\textbf{if} \\: amsgrad                                                  \\\\\n",
    "            &\\hspace{10mm} v_t^{max} \\leftarrow \\mathrm{max}(v_{t-1}^{max},v_t)                  \\\\\n",
    "            &\\hspace{10mm}\\widehat{v_t} \\leftarrow v_t^{max}/\\big(1-\\beta_2^t \\big)              \\\\\n",
    "            &\\hspace{5mm}\\textbf{else}                                                           \\\\\n",
    "            &\\hspace{10mm}\\widehat{v_t} \\leftarrow   v_t/\\big(1-\\beta_2^t \\big)                  \\\\\n",
    "            &\\hspace{5mm}\\theta_t \\leftarrow \\theta_{t-1} - \\gamma \\widehat{m_t}/\n",
    "                \\big(\\sqrt{\\widehat{v_t}} + \\epsilon \\big)                                       \\\\\n",
    "            &\\rule{110mm}{0.4pt}                                                          \\\\[-1.ex]\n",
    "            &\\bf{return} \\:  \\theta_t                                                     \\\\[-1.ex]\n",
    "            &\\rule{110mm}{0.4pt}                                                          \\\\[-1.ex]\n",
    "       \\end{aligned}\n",
    "$$"
   ]
  }
 ],
 "metadata": {
  "kernelspec": {
   "display_name": "Python 3",
   "language": "python",
   "name": "python3"
  },
  "language_info": {
   "codemirror_mode": {
    "name": "ipython",
    "version": 3
   },
   "file_extension": ".py",
   "mimetype": "text/x-python",
   "name": "python",
   "nbconvert_exporter": "python",
   "pygments_lexer": "ipython3",
   "version": "3.11.1"
  }
 },
 "nbformat": 4,
 "nbformat_minor": 2
}
