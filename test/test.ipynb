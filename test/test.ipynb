{
 "cells": [
  {
   "cell_type": "code",
   "execution_count": 8,
   "metadata": {},
   "outputs": [],
   "source": [
    "%load_ext autoreload\n",
    "%autoreload 2\n",
    "\n",
    "import torch\n",
    "import torch.nn as nn\n",
    "import torch.optim as optim\n",
    "import torch.nn.functional as F\n",
    "import torchvision.transforms as transforms\n",
    "from sklearn.metrics import accuracy_score\n",
    "import matplotlib.pyplot as plt\n",
    "from IPS import IPS\n",
    "from AdaIPS_v2 import AdaIPS_S\n",
    "from getData import getData"
   ]
  },
  {
   "cell_type": "code",
   "execution_count": 9,
   "metadata": {},
   "outputs": [],
   "source": [
    "# Device setup\n",
    "device = torch.device('cuda' if torch.cuda.is_available() else 'cpu')\n",
    "\n",
    "class SimpleNN(nn.Module):\n",
    "    def __init__(self):\n",
    "        super(SimpleNN, self).__init__()\n",
    "        self.fc1 = nn.Linear(28*28, 128)\n",
    "        self.fc2 = nn.Linear(128, 64)\n",
    "        self.fc3 = nn.Linear(64, 32)\n",
    "        self.fc4 = nn.Linear(32, 10)\n",
    "        \n",
    "        self.losses = []\n",
    "        \n",
    "\n",
    "    def forward(self, x):\n",
    "        x = x.view(-1, 28*28).float()\n",
    "        x = F.relu(self.fc1(x))\n",
    "        x = F.relu(self.fc2(x))\n",
    "        x = F.relu(self.fc3(x))\n",
    "        return self.fc4(x)"
   ]
  },
  {
   "cell_type": "code",
   "execution_count": 10,
   "metadata": {},
   "outputs": [],
   "source": [
    "epochs = 5\n",
    "batch_size = 64"
   ]
  },
  {
   "cell_type": "code",
   "execution_count": 11,
   "metadata": {},
   "outputs": [],
   "source": [
    "trainloader, trainset, testloader, testset = getData('FashionMNIST', batch_size=batch_size)"
   ]
  },
  {
   "cell_type": "code",
   "execution_count": 12,
   "metadata": {},
   "outputs": [],
   "source": [
    "def train(model, optimizer, epochs=2):\n",
    "    print(optimizer)\n",
    "    criterion = nn.CrossEntropyLoss()\n",
    "    optimizer = optimizer\n",
    "\n",
    "    num_epochs = epochs\n",
    "    for epoch in range(num_epochs):\n",
    "        for i, (inputs, labels) in enumerate(trainloader):\n",
    "            inputs, labels = inputs.to(device), labels.to(device)\n",
    "\n",
    "            def closure():\n",
    "                optimizer.zero_grad()\n",
    "                outputs = model(inputs)\n",
    "                loss = criterion(outputs, labels)\n",
    "                loss.backward()\n",
    "                return loss\n",
    "\n",
    "            loss = optimizer.step(closure)\n",
    "\n",
    "            if i % 100 == 0:\n",
    "                print(f'Epoch {epoch+1}, Step {i}, Loss: {loss}')\n",
    "            model.losses.append(loss.item())\n",
    "\n",
    "    print(\"Training complete.\")\n",
    "    return model"
   ]
  },
  {
   "cell_type": "code",
   "execution_count": 13,
   "metadata": {},
   "outputs": [],
   "source": [
    "def test(model):\n",
    "    for i, (inputs, labels) in enumerate(testloader):\n",
    "        output = model(inputs)\n",
    "        output = output.argmax(axis=1)\n",
    "        print(accuracy_score(labels, output.detach().numpy()))"
   ]
  },
  {
   "cell_type": "code",
   "execution_count": null,
   "metadata": {},
   "outputs": [
    {
     "name": "stdout",
     "output_type": "stream",
     "text": [
      "AdaIPS_S (\n",
      "Parameter Group 0\n",
      "    T0: 4687.5\n",
      "    beta_1: 0.9\n",
      "    beta_2: 0.99\n",
      "    eps: 1e-08\n",
      "    lower_bound: 0\n",
      ")\n",
      "Epoch 1, Step 0, Loss: 2.2780327796936035\n"
     ]
    }
   ],
   "source": [
    "adaIpsModel = SimpleNN().to(device)\n",
    "adaIpsOptimizer = AdaIPS_S(adaIpsModel.parameters(), T=epochs * (len(trainset)/batch_size), lower_bound=0, beta_1=0.9, beta_2=0.99)\n",
    "train(adaIpsModel, adaIpsOptimizer, epochs=epochs)"
   ]
  },
  {
   "cell_type": "code",
   "execution_count": null,
   "metadata": {},
   "outputs": [
    {
     "name": "stdout",
     "output_type": "stream",
     "text": [
      "IPS (\n",
      "Parameter Group 0\n",
      "    T: 4687.5\n",
      "    lower_bound: 0\n",
      ")\n",
      "Epoch 1, Step 0, Loss: 2.331430673599243\n",
      "Epoch 1, Step 100, Loss: 0.8359425067901611\n",
      "Epoch 1, Step 200, Loss: 0.7421186566352844\n",
      "Epoch 1, Step 300, Loss: 0.7279670238494873\n",
      "Epoch 1, Step 400, Loss: 0.6664255857467651\n",
      "Epoch 1, Step 500, Loss: 0.7669581174850464\n",
      "Epoch 1, Step 600, Loss: 0.5987370014190674\n",
      "Epoch 1, Step 700, Loss: 0.460971862077713\n",
      "Epoch 1, Step 800, Loss: 0.5692813396453857\n",
      "Epoch 1, Step 900, Loss: 0.575652539730072\n",
      "Epoch 2, Step 0, Loss: 0.6303300857543945\n",
      "Epoch 2, Step 100, Loss: 0.5364619493484497\n",
      "Epoch 2, Step 200, Loss: 0.5755197405815125\n",
      "Epoch 2, Step 300, Loss: 0.6014038324356079\n",
      "Epoch 2, Step 400, Loss: 0.39274755120277405\n",
      "Epoch 2, Step 500, Loss: 0.5401445031166077\n",
      "Epoch 2, Step 600, Loss: 0.7214139103889465\n",
      "Epoch 2, Step 700, Loss: 0.6237825751304626\n",
      "Epoch 2, Step 800, Loss: 0.4966868758201599\n",
      "Epoch 2, Step 900, Loss: 0.5190115571022034\n",
      "Epoch 3, Step 0, Loss: 0.4177539348602295\n",
      "Epoch 3, Step 100, Loss: 0.767876386642456\n",
      "Epoch 3, Step 200, Loss: 0.4486994445323944\n",
      "Epoch 3, Step 300, Loss: 0.5795664191246033\n",
      "Epoch 3, Step 400, Loss: 0.45340514183044434\n",
      "Epoch 3, Step 500, Loss: 0.3180429935455322\n",
      "Epoch 3, Step 600, Loss: 0.7021903395652771\n",
      "Epoch 3, Step 700, Loss: 0.4971466660499573\n",
      "Epoch 3, Step 800, Loss: 0.6051063537597656\n",
      "Epoch 3, Step 900, Loss: 0.3520355522632599\n",
      "Epoch 4, Step 0, Loss: 0.5719910860061646\n",
      "Epoch 4, Step 100, Loss: 0.41972601413726807\n",
      "Epoch 4, Step 200, Loss: 0.5041114091873169\n",
      "Epoch 4, Step 300, Loss: 0.49483150243759155\n",
      "Epoch 4, Step 400, Loss: 0.396254301071167\n",
      "Epoch 4, Step 500, Loss: 0.5199614763259888\n",
      "Epoch 4, Step 600, Loss: 0.4321154057979584\n",
      "Epoch 4, Step 700, Loss: 0.3945334851741791\n",
      "Epoch 4, Step 800, Loss: 0.4350394904613495\n",
      "Epoch 4, Step 900, Loss: 0.49762216210365295\n",
      "Epoch 5, Step 0, Loss: 0.650953471660614\n",
      "Epoch 5, Step 100, Loss: 0.501441478729248\n",
      "Epoch 5, Step 200, Loss: 0.6458750367164612\n",
      "Epoch 5, Step 300, Loss: 0.6409669518470764\n",
      "Epoch 5, Step 400, Loss: 0.3850732445716858\n",
      "Epoch 5, Step 500, Loss: 0.5067821145057678\n",
      "Epoch 5, Step 600, Loss: 0.4485493004322052\n",
      "Epoch 5, Step 700, Loss: 0.5214526057243347\n",
      "Epoch 5, Step 800, Loss: 0.7064350843429565\n",
      "Epoch 5, Step 900, Loss: 0.48663562536239624\n",
      "Training complete.\n"
     ]
    },
    {
     "data": {
      "text/plain": [
       "SimpleNN(\n",
       "  (fc1): Linear(in_features=784, out_features=128, bias=True)\n",
       "  (fc2): Linear(in_features=128, out_features=64, bias=True)\n",
       "  (fc3): Linear(in_features=64, out_features=32, bias=True)\n",
       "  (fc4): Linear(in_features=32, out_features=10, bias=True)\n",
       ")"
      ]
     },
     "execution_count": 8,
     "metadata": {},
     "output_type": "execute_result"
    }
   ],
   "source": [
    "ipsModel = SimpleNN().to(device)\n",
    "ipsOptimizer = IPS(ipsModel.parameters(), T=epochs * (len(trainset) / batch_size), lower_bound=0)\n",
    "train(ipsModel, ipsOptimizer, epochs=5)"
   ]
  },
  {
   "cell_type": "code",
   "execution_count": null,
   "metadata": {},
   "outputs": [
    {
     "name": "stdout",
     "output_type": "stream",
     "text": [
      "Adam (\n",
      "Parameter Group 0\n",
      "    amsgrad: False\n",
      "    betas: (0.9, 0.999)\n",
      "    capturable: False\n",
      "    differentiable: False\n",
      "    eps: 1e-08\n",
      "    foreach: None\n",
      "    fused: None\n",
      "    lr: 0.001\n",
      "    maximize: False\n",
      "    weight_decay: 0\n",
      ")\n",
      "Epoch 1, Step 0, Loss: 2.3199522495269775\n",
      "Epoch 1, Step 100, Loss: 0.5196670293807983\n",
      "Epoch 1, Step 200, Loss: 0.5832023024559021\n",
      "Epoch 1, Step 300, Loss: 0.6022454500198364\n",
      "Epoch 1, Step 400, Loss: 0.5611456632614136\n",
      "Epoch 1, Step 500, Loss: 0.4086129665374756\n",
      "Epoch 1, Step 600, Loss: 0.2758854627609253\n",
      "Epoch 1, Step 700, Loss: 0.5572483539581299\n",
      "Epoch 1, Step 800, Loss: 0.4185510277748108\n",
      "Epoch 1, Step 900, Loss: 0.4174169600009918\n",
      "Epoch 2, Step 0, Loss: 0.4804537296295166\n",
      "Epoch 2, Step 100, Loss: 0.3042009770870209\n",
      "Epoch 2, Step 200, Loss: 0.3747647702693939\n",
      "Epoch 2, Step 300, Loss: 0.41325950622558594\n",
      "Epoch 2, Step 400, Loss: 0.24284957349300385\n",
      "Epoch 2, Step 500, Loss: 0.3668532073497772\n",
      "Epoch 2, Step 600, Loss: 0.42289942502975464\n",
      "Epoch 2, Step 700, Loss: 0.34060412645339966\n",
      "Epoch 2, Step 800, Loss: 0.39064499735832214\n",
      "Epoch 2, Step 900, Loss: 0.3482982814311981\n",
      "Epoch 3, Step 0, Loss: 0.28043320775032043\n",
      "Epoch 3, Step 100, Loss: 0.3724367618560791\n",
      "Epoch 3, Step 200, Loss: 0.34549659490585327\n",
      "Epoch 3, Step 300, Loss: 0.27699387073516846\n",
      "Epoch 3, Step 400, Loss: 0.3688448667526245\n",
      "Epoch 3, Step 500, Loss: 0.5080876350402832\n",
      "Epoch 3, Step 600, Loss: 0.41827869415283203\n",
      "Epoch 3, Step 700, Loss: 0.18516995012760162\n",
      "Epoch 3, Step 800, Loss: 0.2691590189933777\n",
      "Epoch 3, Step 900, Loss: 0.20034585893154144\n",
      "Epoch 4, Step 0, Loss: 0.2817436754703522\n",
      "Epoch 4, Step 100, Loss: 0.4066648781299591\n",
      "Epoch 4, Step 200, Loss: 0.24929165840148926\n",
      "Epoch 4, Step 300, Loss: 0.29196488857269287\n",
      "Epoch 4, Step 400, Loss: 0.25879421830177307\n",
      "Epoch 4, Step 500, Loss: 0.22447025775909424\n",
      "Epoch 4, Step 600, Loss: 0.4644686281681061\n",
      "Epoch 4, Step 700, Loss: 0.22586987912654877\n",
      "Epoch 4, Step 800, Loss: 0.4504128396511078\n",
      "Epoch 4, Step 900, Loss: 0.3175400495529175\n",
      "Epoch 5, Step 0, Loss: 0.7395973801612854\n",
      "Epoch 5, Step 100, Loss: 0.21397818624973297\n",
      "Epoch 5, Step 200, Loss: 0.3137627840042114\n",
      "Epoch 5, Step 300, Loss: 0.22606690227985382\n",
      "Epoch 5, Step 400, Loss: 0.3470101058483124\n",
      "Epoch 5, Step 500, Loss: 0.14596693217754364\n",
      "Epoch 5, Step 600, Loss: 0.23201170563697815\n",
      "Epoch 5, Step 700, Loss: 0.3422510623931885\n",
      "Epoch 5, Step 800, Loss: 0.309678852558136\n",
      "Epoch 5, Step 900, Loss: 0.11453443765640259\n",
      "Training complete.\n"
     ]
    },
    {
     "data": {
      "text/plain": [
       "SimpleNN(\n",
       "  (fc1): Linear(in_features=784, out_features=128, bias=True)\n",
       "  (fc2): Linear(in_features=128, out_features=64, bias=True)\n",
       "  (fc3): Linear(in_features=64, out_features=32, bias=True)\n",
       "  (fc4): Linear(in_features=32, out_features=10, bias=True)\n",
       ")"
      ]
     },
     "execution_count": 9,
     "metadata": {},
     "output_type": "execute_result"
    }
   ],
   "source": [
    "adamModel = SimpleNN().to(device)\n",
    "adamOptimizer = torch.optim.Adam(adamModel.parameters(), lr=1e-3)\n",
    "train(adamModel, adamOptimizer, epochs=5)"
   ]
  },
  {
   "cell_type": "code",
   "execution_count": null,
   "metadata": {},
   "outputs": [
    {
     "name": "stdout",
     "output_type": "stream",
     "text": [
      "0.858\n",
      "0.8202\n",
      "0.8719\n"
     ]
    }
   ],
   "source": [
    "test(adaIpsModel)\n",
    "test(ipsModel)\n",
    "test(adamModel)"
   ]
  },
  {
   "cell_type": "code",
   "execution_count": null,
   "metadata": {},
   "outputs": [
    {
     "data": {
      "image/png": "[encoded data removed]",
      "text/plain": [
       "<Figure size 640x480 with 1 Axes>"
      ]
     },
     "metadata": {},
     "output_type": "display_data"
    }
   ],
   "source": [
    "models = [\n",
    "    (adaIpsModel, 'adaips optimizer'),\n",
    "    (adamModel, 'adam optimizer'),\n",
    "    (ipsModel, 'IPS optimizer')\n",
    "]\n",
    "exclude = []\n",
    "focus = [adaIpsModel]\n",
    "interval = 50\n",
    "for model in models:\n",
    "    if model[0] in exclude: continue\n",
    "    plt.plot(\n",
    "        [i for i, loss in enumerate(model[0].losses) if i % interval == 0], \n",
    "        [loss for i, loss in enumerate(model[0].losses) if i % interval == 0], \n",
    "        label=model[1],\n",
    "        alpha=0.5 if model[0] not in focus else 1\n",
    "    )\n",
    "\n",
    "plt.legend()\n",
    "plt.show()"
   ]
  },
  {
   "cell_type": "code",
   "execution_count": null,
   "metadata": {},
   "outputs": [
    {
     "data": {
      "text/plain": [
       "937.5"
      ]
     },
     "execution_count": 13,
     "metadata": {},
     "output_type": "execute_result"
    }
   ],
   "source": [
    "len(trainset) / batch_size"
   ]
  }
 ],
 "metadata": {
  "kernelspec": {
   "display_name": "Python 3",
   "language": "python",
   "name": "python3"
  },
  "language_info": {
   "codemirror_mode": {
    "name": "ipython",
    "version": 3
   },
   "file_extension": ".py",
   "mimetype": "text/x-python",
   "name": "python",
   "nbconvert_exporter": "python",
   "pygments_lexer": "ipython3",
   "version": "3.11.1"
  }
 },
 "nbformat": 4,
 "nbformat_minor": 2
}
