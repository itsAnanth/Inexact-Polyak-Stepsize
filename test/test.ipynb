{
 "cells": [
  {
   "cell_type": "code",
   "execution_count": 1,
   "metadata": {},
   "outputs": [],
   "source": [
    "import torch\n",
    "import torch.nn as nn\n",
    "import torch.optim as optim\n",
    "import torch.nn.functional as F\n",
    "import torchvision\n",
    "import torchvision.transforms as transforms\n",
    "from sklearn.metrics import accuracy_score\n",
    "import matplotlib.pyplot as plt\n",
    "from IPS import IPS\n",
    "from AdaIPS_v2 import AdaIPS_S\n",
    "from getData import getData"
   ]
  },
  {
   "cell_type": "code",
   "execution_count": 2,
   "metadata": {},
   "outputs": [],
   "source": [
    "# Device setup\n",
    "device = torch.device('cuda' if torch.cuda.is_available() else 'cpu')\n",
    "\n",
    "class SimpleNN(nn.Module):\n",
    "    def __init__(self):\n",
    "        super(SimpleNN, self).__init__()\n",
    "        self.fc1 = nn.Linear(28*28, 128)\n",
    "        self.fc2 = nn.Linear(128, 64)\n",
    "        self.fc3 = nn.Linear(64, 32)\n",
    "        self.fc4 = nn.Linear(32, 10)\n",
    "        \n",
    "        self.losses = []\n",
    "        \n",
    "\n",
    "    def forward(self, x):\n",
    "        x = x.view(-1, 28*28).float()\n",
    "        x = F.relu(self.fc1(x))\n",
    "        x = F.relu(self.fc2(x))\n",
    "        x = F.relu(self.fc3(x))\n",
    "        return self.fc4(x)"
   ]
  },
  {
   "cell_type": "code",
   "execution_count": 3,
   "metadata": {},
   "outputs": [],
   "source": [
    "epochs = 5\n",
    "batch_size = 64"
   ]
  },
  {
   "cell_type": "code",
   "execution_count": 4,
   "metadata": {},
   "outputs": [],
   "source": [
    "trainloader, trainset, testloader, testset = getData('MNIST', batch_size=batch_size)"
   ]
  },
  {
   "cell_type": "code",
   "execution_count": 5,
   "metadata": {},
   "outputs": [],
   "source": [
    "def train(model, optimizer, epochs=2):\n",
    "    print(optimizer)\n",
    "    criterion = nn.CrossEntropyLoss()\n",
    "    optimizer = optimizer\n",
    "\n",
    "    num_epochs = epochs\n",
    "    for epoch in range(num_epochs):\n",
    "        for i, (inputs, labels) in enumerate(trainloader):\n",
    "            inputs, labels = inputs.to(device), labels.to(device)\n",
    "\n",
    "            def closure():\n",
    "                optimizer.zero_grad()\n",
    "                outputs = model(inputs)\n",
    "                loss = criterion(outputs, labels)\n",
    "                loss.backward()\n",
    "                return loss\n",
    "\n",
    "            loss = optimizer.step(closure)\n",
    "\n",
    "            if i % 100 == 0:\n",
    "                print(f'Epoch {epoch+1}, Step {i}, Loss: {loss}')\n",
    "            model.losses.append(loss.item())\n",
    "\n",
    "    print(\"Training complete.\")\n",
    "    return model"
   ]
  },
  {
   "cell_type": "code",
   "execution_count": 6,
   "metadata": {},
   "outputs": [],
   "source": [
    "def test(model):\n",
    "    for i, (inputs, labels) in enumerate(testloader):\n",
    "        output = model(inputs)\n",
    "        output = output.argmax(axis=1)\n",
    "        print(accuracy_score(labels, output.detach().numpy()))"
   ]
  },
  {
   "cell_type": "code",
   "execution_count": null,
   "metadata": {},
   "outputs": [
    {
     "name": "stdout",
     "output_type": "stream",
     "text": [
      "AdaIPS_S (\n",
      "Parameter Group 0\n",
      "    T0: 1\n",
      "    beta_1: 0.9\n",
      "    beta_2: 0.99\n",
      "    eps: 1e-08\n",
      "    lower_bound: 0\n",
      ")\n",
      "Epoch 1, Step 0, Loss: 2.319525718688965\n",
      "Epoch 1, Step 100, Loss: 0.47655001282691956\n",
      "Epoch 1, Step 200, Loss: 0.26582932472229004\n",
      "Epoch 1, Step 300, Loss: 0.40789973735809326\n",
      "Epoch 1, Step 400, Loss: 0.294498473405838\n",
      "Epoch 1, Step 500, Loss: 0.38867616653442383\n",
      "Epoch 1, Step 600, Loss: 0.30126953125\n",
      "Epoch 1, Step 700, Loss: 0.20113369822502136\n",
      "Epoch 1, Step 800, Loss: 0.1772845983505249\n",
      "Epoch 1, Step 900, Loss: 0.30432581901550293\n",
      "Epoch 2, Step 0, Loss: 0.07687868922948837\n",
      "Epoch 2, Step 100, Loss: 0.09045726805925369\n",
      "Epoch 2, Step 200, Loss: 0.045823633670806885\n",
      "Epoch 2, Step 300, Loss: 0.1801379919052124\n",
      "Epoch 2, Step 400, Loss: 0.02839682251214981\n",
      "Epoch 2, Step 500, Loss: 0.1188928559422493\n",
      "Epoch 2, Step 600, Loss: 0.294314980506897\n",
      "Epoch 2, Step 700, Loss: 0.03714282065629959\n",
      "Epoch 2, Step 800, Loss: 0.0843319520354271\n",
      "Epoch 2, Step 900, Loss: 0.39873746037483215\n",
      "Epoch 3, Step 0, Loss: 0.1817738115787506\n",
      "Epoch 3, Step 100, Loss: 0.06762603670358658\n",
      "Epoch 3, Step 200, Loss: 0.04779636859893799\n",
      "Epoch 3, Step 300, Loss: 0.13319189846515656\n",
      "Epoch 3, Step 400, Loss: 0.03055783361196518\n",
      "Epoch 3, Step 500, Loss: 0.0842408835887909\n",
      "Epoch 3, Step 600, Loss: 0.15539495646953583\n",
      "Epoch 3, Step 700, Loss: 0.08953340351581573\n",
      "Epoch 3, Step 800, Loss: 0.16180816292762756\n",
      "Epoch 3, Step 900, Loss: 0.12182051688432693\n",
      "Epoch 4, Step 0, Loss: 0.058817923069000244\n",
      "Epoch 4, Step 100, Loss: 0.10000517219305038\n",
      "Epoch 4, Step 200, Loss: 0.042324960231781006\n",
      "Epoch 4, Step 300, Loss: 0.12956956028938293\n",
      "Epoch 4, Step 400, Loss: 0.15271714329719543\n",
      "Epoch 4, Step 500, Loss: 0.17030860483646393\n",
      "Epoch 4, Step 600, Loss: 0.22364003956317902\n",
      "Epoch 4, Step 700, Loss: 0.014292503707110882\n",
      "Epoch 4, Step 800, Loss: 0.1755121350288391\n",
      "Epoch 4, Step 900, Loss: 0.08303764462471008\n",
      "Epoch 5, Step 0, Loss: 0.15204252302646637\n",
      "Epoch 5, Step 100, Loss: 0.03567955642938614\n",
      "Epoch 5, Step 200, Loss: 0.013978119939565659\n",
      "Epoch 5, Step 300, Loss: 0.2290956676006317\n",
      "Epoch 5, Step 400, Loss: 0.14682364463806152\n",
      "Epoch 5, Step 500, Loss: 0.06922665983438492\n",
      "Epoch 5, Step 600, Loss: 0.016104593873023987\n",
      "Epoch 5, Step 700, Loss: 0.14544296264648438\n",
      "Epoch 5, Step 800, Loss: 0.03697725757956505\n",
      "Epoch 5, Step 900, Loss: 0.07494870573282242\n",
      "Training complete.\n"
     ]
    },
    {
     "data": {
      "text/plain": [
       "SimpleNN(\n",
       "  (fc1): Linear(in_features=784, out_features=128, bias=True)\n",
       "  (fc2): Linear(in_features=128, out_features=64, bias=True)\n",
       "  (fc3): Linear(in_features=64, out_features=32, bias=True)\n",
       "  (fc4): Linear(in_features=32, out_features=10, bias=True)\n",
       ")"
      ]
     },
     "execution_count": 7,
     "metadata": {},
     "output_type": "execute_result"
    }
   ],
   "source": [
    "adaIpsModel = SimpleNN().to(device)\n",
    "adaIpsOptimizer = AdaIPS_S(adaIpsModel.parameters(), T=epochs * (len(trainset)/batch_size), lower_bound=0, beta_1=0.9, beta_2=0.99)\n",
    "train(adaIpsModel, adaIpsOptimizer, epochs=epochs)"
   ]
  },
  {
   "cell_type": "code",
   "execution_count": 8,
   "metadata": {},
   "outputs": [
    {
     "name": "stdout",
     "output_type": "stream",
     "text": [
      "IPS (\n",
      "Parameter Group 0\n",
      "    T: 4687.5\n",
      "    lower_bound: 0\n",
      ")\n",
      "Epoch 1, Step 0, Loss: 2.314420223236084\n",
      "Epoch 1, Step 100, Loss: 0.578070342540741\n",
      "Epoch 1, Step 200, Loss: 0.5332255363464355\n",
      "Epoch 1, Step 300, Loss: 0.6469740271568298\n",
      "Epoch 1, Step 400, Loss: 0.3752712607383728\n",
      "Epoch 1, Step 500, Loss: 0.727746844291687\n",
      "Epoch 1, Step 600, Loss: 0.34947624802589417\n",
      "Epoch 1, Step 700, Loss: 0.44157859683036804\n",
      "Epoch 1, Step 800, Loss: 0.3074631989002228\n",
      "Epoch 1, Step 900, Loss: 0.43938735127449036\n",
      "Epoch 2, Step 0, Loss: 0.5172064900398254\n",
      "Epoch 2, Step 100, Loss: 0.5148026943206787\n",
      "Epoch 2, Step 200, Loss: 0.2180193066596985\n",
      "Epoch 2, Step 300, Loss: 0.4580238461494446\n",
      "Epoch 2, Step 400, Loss: 0.3673092722892761\n",
      "Epoch 2, Step 500, Loss: 0.5403255224227905\n",
      "Epoch 2, Step 600, Loss: 0.4747333526611328\n",
      "Epoch 2, Step 700, Loss: 0.25147226452827454\n",
      "Epoch 2, Step 800, Loss: 0.3658400774002075\n",
      "Epoch 2, Step 900, Loss: 0.6847969889640808\n",
      "Epoch 3, Step 0, Loss: 0.3744915723800659\n",
      "Epoch 3, Step 100, Loss: 0.1404978483915329\n",
      "Epoch 3, Step 200, Loss: 0.237291619181633\n",
      "Epoch 3, Step 300, Loss: 0.24665190279483795\n",
      "Epoch 3, Step 400, Loss: 0.24029143154621124\n",
      "Epoch 3, Step 500, Loss: 0.2391543984413147\n",
      "Epoch 3, Step 600, Loss: 0.2976781725883484\n",
      "Epoch 3, Step 700, Loss: 0.1363540142774582\n",
      "Epoch 3, Step 800, Loss: 0.45483630895614624\n",
      "Epoch 3, Step 900, Loss: 0.20365194976329803\n",
      "Epoch 4, Step 0, Loss: 0.1859092265367508\n",
      "Epoch 4, Step 100, Loss: 0.462555855512619\n",
      "Epoch 4, Step 200, Loss: 0.16881978511810303\n",
      "Epoch 4, Step 300, Loss: 0.28446245193481445\n",
      "Epoch 4, Step 400, Loss: 0.2822486460208893\n",
      "Epoch 4, Step 500, Loss: 0.19502036273479462\n",
      "Epoch 4, Step 600, Loss: 0.2027999609708786\n",
      "Epoch 4, Step 700, Loss: 0.24398183822631836\n",
      "Epoch 4, Step 800, Loss: 0.3733963966369629\n",
      "Epoch 4, Step 900, Loss: 0.20406827330589294\n",
      "Epoch 5, Step 0, Loss: 0.42486122250556946\n",
      "Epoch 5, Step 100, Loss: 0.3643566966056824\n",
      "Epoch 5, Step 200, Loss: 0.3292887508869171\n",
      "Epoch 5, Step 300, Loss: 0.5225678086280823\n",
      "Epoch 5, Step 400, Loss: 0.20610249042510986\n",
      "Epoch 5, Step 500, Loss: 0.3637138903141022\n",
      "Epoch 5, Step 600, Loss: 0.1951792985200882\n",
      "Epoch 5, Step 700, Loss: 0.1385580152273178\n",
      "Epoch 5, Step 800, Loss: 0.3640962839126587\n",
      "Epoch 5, Step 900, Loss: 0.22369131445884705\n",
      "Training complete.\n"
     ]
    },
    {
     "data": {
      "text/plain": [
       "SimpleNN(\n",
       "  (fc1): Linear(in_features=784, out_features=128, bias=True)\n",
       "  (fc2): Linear(in_features=128, out_features=64, bias=True)\n",
       "  (fc3): Linear(in_features=64, out_features=32, bias=True)\n",
       "  (fc4): Linear(in_features=32, out_features=10, bias=True)\n",
       ")"
      ]
     },
     "execution_count": 8,
     "metadata": {},
     "output_type": "execute_result"
    }
   ],
   "source": [
    "ipsModel = SimpleNN().to(device)\n",
    "ipsOptimizer = IPS(ipsModel.parameters(), T=epochs * (len(trainset) / batch_size), lower_bound=0)\n",
    "train(ipsModel, ipsOptimizer, epochs=5)"
   ]
  },
  {
   "cell_type": "code",
   "execution_count": 9,
   "metadata": {},
   "outputs": [
    {
     "name": "stdout",
     "output_type": "stream",
     "text": [
      "Adam (\n",
      "Parameter Group 0\n",
      "    amsgrad: False\n",
      "    betas: (0.9, 0.999)\n",
      "    capturable: False\n",
      "    differentiable: False\n",
      "    eps: 1e-08\n",
      "    foreach: None\n",
      "    fused: None\n",
      "    lr: 0.001\n",
      "    maximize: False\n",
      "    weight_decay: 0\n",
      ")\n",
      "Epoch 1, Step 0, Loss: 2.3193113803863525\n",
      "Epoch 1, Step 100, Loss: 0.30890554189682007\n",
      "Epoch 1, Step 200, Loss: 0.16019539535045624\n",
      "Epoch 1, Step 300, Loss: 0.45395705103874207\n",
      "Epoch 1, Step 400, Loss: 0.3490487039089203\n",
      "Epoch 1, Step 500, Loss: 0.1763347089290619\n",
      "Epoch 1, Step 600, Loss: 0.18797050416469574\n",
      "Epoch 1, Step 700, Loss: 0.08024634420871735\n",
      "Epoch 1, Step 800, Loss: 0.13830849528312683\n",
      "Epoch 1, Step 900, Loss: 0.11719336360692978\n",
      "Epoch 2, Step 0, Loss: 0.15183568000793457\n",
      "Epoch 2, Step 100, Loss: 0.09765984863042831\n",
      "Epoch 2, Step 200, Loss: 0.17701523005962372\n",
      "Epoch 2, Step 300, Loss: 0.13883373141288757\n",
      "Epoch 2, Step 400, Loss: 0.13284499943256378\n",
      "Epoch 2, Step 500, Loss: 0.049096278846263885\n",
      "Epoch 2, Step 600, Loss: 0.20255763828754425\n",
      "Epoch 2, Step 700, Loss: 0.12255530804395676\n",
      "Epoch 2, Step 800, Loss: 0.16331720352172852\n",
      "Epoch 2, Step 900, Loss: 0.06509842723608017\n",
      "Epoch 3, Step 0, Loss: 0.11211354285478592\n",
      "Epoch 3, Step 100, Loss: 0.12401819229125977\n",
      "Epoch 3, Step 200, Loss: 0.05745568871498108\n",
      "Epoch 3, Step 300, Loss: 0.18710216879844666\n",
      "Epoch 3, Step 400, Loss: 0.032739363610744476\n",
      "Epoch 3, Step 500, Loss: 0.10477250814437866\n",
      "Epoch 3, Step 600, Loss: 0.14629606902599335\n",
      "Epoch 3, Step 700, Loss: 0.04097728058695793\n",
      "Epoch 3, Step 800, Loss: 0.06484510004520416\n",
      "Epoch 3, Step 900, Loss: 0.07919800281524658\n",
      "Epoch 4, Step 0, Loss: 0.08054980635643005\n",
      "Epoch 4, Step 100, Loss: 0.05612440034747124\n",
      "Epoch 4, Step 200, Loss: 0.026217201724648476\n",
      "Epoch 4, Step 300, Loss: 0.05528459697961807\n",
      "Epoch 4, Step 400, Loss: 0.050582580268383026\n",
      "Epoch 4, Step 500, Loss: 0.14336834847927094\n",
      "Epoch 4, Step 600, Loss: 0.023622188717126846\n",
      "Epoch 4, Step 700, Loss: 0.09009555727243423\n",
      "Epoch 4, Step 800, Loss: 0.020984819158911705\n",
      "Epoch 4, Step 900, Loss: 0.08285284787416458\n",
      "Epoch 5, Step 0, Loss: 0.016229910776019096\n",
      "Epoch 5, Step 100, Loss: 0.0102694658562541\n",
      "Epoch 5, Step 200, Loss: 0.032965902239084244\n",
      "Epoch 5, Step 300, Loss: 0.012939391657710075\n",
      "Epoch 5, Step 400, Loss: 0.08092308044433594\n",
      "Epoch 5, Step 500, Loss: 0.05946006253361702\n",
      "Epoch 5, Step 600, Loss: 0.016727395355701447\n",
      "Epoch 5, Step 700, Loss: 0.09034319967031479\n",
      "Epoch 5, Step 800, Loss: 0.034932941198349\n",
      "Epoch 5, Step 900, Loss: 0.0472165048122406\n",
      "Training complete.\n"
     ]
    },
    {
     "data": {
      "text/plain": [
       "SimpleNN(\n",
       "  (fc1): Linear(in_features=784, out_features=128, bias=True)\n",
       "  (fc2): Linear(in_features=128, out_features=64, bias=True)\n",
       "  (fc3): Linear(in_features=64, out_features=32, bias=True)\n",
       "  (fc4): Linear(in_features=32, out_features=10, bias=True)\n",
       ")"
      ]
     },
     "execution_count": 9,
     "metadata": {},
     "output_type": "execute_result"
    }
   ],
   "source": [
    "adamModel = SimpleNN().to(device)\n",
    "adamOptimizer = torch.optim.Adam(adamModel.parameters(), lr=1e-3)\n",
    "train(adamModel, adamOptimizer, epochs=5)"
   ]
  },
  {
   "cell_type": "code",
   "execution_count": 10,
   "metadata": {},
   "outputs": [
    {
     "data": {
      "image/png": "[encoded data removed]",
      "text/plain": [
       "<Figure size 640x480 with 1 Axes>"
      ]
     },
     "metadata": {},
     "output_type": "display_data"
    }
   ],
   "source": [
    "models = [\n",
    "    (adaIpsModel, 'adaips optimizer'),\n",
    "    (adamModel, 'adam optimizer'),\n",
    "    (ipsModel, 'IPS optimizer')\n",
    "]\n",
    "exclude = []\n",
    "focus = [adaIpsModel]\n",
    "interval = 50\n",
    "for model in models:\n",
    "    if model[0] in exclude: continue\n",
    "    plt.plot(\n",
    "        [i for i, loss in enumerate(model[0].losses) if i % interval == 0], \n",
    "        [loss for i, loss in enumerate(model[0].losses) if i % interval == 0], \n",
    "        label=model[1],\n",
    "        alpha=0.5 if model[0] not in focus else 1\n",
    "    )\n",
    "\n",
    "plt.legend()\n",
    "plt.show()"
   ]
  }
 ],
 "metadata": {
  "kernelspec": {
   "display_name": "Python 3",
   "language": "python",
   "name": "python3"
  },
  "language_info": {
   "codemirror_mode": {
    "name": "ipython",
    "version": 3
   },
   "file_extension": ".py",
   "mimetype": "text/x-python",
   "name": "python",
   "nbconvert_exporter": "python",
   "pygments_lexer": "ipython3",
   "version": "3.11.1"
  }
 },
 "nbformat": 4,
 "nbformat_minor": 2
}
